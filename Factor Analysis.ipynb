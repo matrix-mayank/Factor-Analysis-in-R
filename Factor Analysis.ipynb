{
 "cells": [
  {
   "cell_type": "code",
   "execution_count": 97,
   "metadata": {},
   "outputs": [],
   "source": [
    "library(psych)\n",
    "library(EFA.dimensions) \n",
    "library(dplyr)\n",
    "library(corrr)\n",
    "library(irr)\n",
    "library(lavaan)\n",
    "library(semPlot)\n",
    "\n",
    "setwd(\"/Users/mayanksharma/Desktop/SEL Screener/Final Student Qnnaire\")"
   ]
  },
  {
   "cell_type": "code",
   "execution_count": 98,
   "metadata": {},
   "outputs": [],
   "source": [
    "data=read.csv(\"EFAData_EFA.csv\")"
   ]
  },
  {
   "cell_type": "code",
   "execution_count": 99,
   "metadata": {},
   "outputs": [
    {
     "data": {
      "text/html": [
       "<table>\n",
       "<caption>A data.frame: 6 × 11</caption>\n",
       "<thead>\n",
       "\t<tr><th></th><th scope=col>Item1</th><th scope=col>Item2</th><th scope=col>Item3</th><th scope=col>Item4</th><th scope=col>Item5</th><th scope=col>Item6</th><th scope=col>Item7</th><th scope=col>Item8</th><th scope=col>Item9</th><th scope=col>Item10</th><th scope=col>Item11</th></tr>\n",
       "\t<tr><th></th><th scope=col>&lt;int&gt;</th><th scope=col>&lt;int&gt;</th><th scope=col>&lt;int&gt;</th><th scope=col>&lt;int&gt;</th><th scope=col>&lt;int&gt;</th><th scope=col>&lt;int&gt;</th><th scope=col>&lt;int&gt;</th><th scope=col>&lt;int&gt;</th><th scope=col>&lt;int&gt;</th><th scope=col>&lt;int&gt;</th><th scope=col>&lt;int&gt;</th></tr>\n",
       "</thead>\n",
       "<tbody>\n",
       "\t<tr><th scope=row>1</th><td>2</td><td>1</td><td>2</td><td>2</td><td>2</td><td>3</td><td>2</td><td>3</td><td>3</td><td>2</td><td>3</td></tr>\n",
       "\t<tr><th scope=row>2</th><td>3</td><td>1</td><td>1</td><td>2</td><td>1</td><td>3</td><td>1</td><td>3</td><td>3</td><td>3</td><td>3</td></tr>\n",
       "\t<tr><th scope=row>3</th><td>3</td><td>2</td><td>2</td><td>1</td><td>2</td><td>3</td><td>2</td><td>3</td><td>3</td><td>3</td><td>3</td></tr>\n",
       "\t<tr><th scope=row>4</th><td>2</td><td>2</td><td>2</td><td>2</td><td>2</td><td>2</td><td>3</td><td>3</td><td>3</td><td>3</td><td>3</td></tr>\n",
       "\t<tr><th scope=row>5</th><td>3</td><td>1</td><td>1</td><td>1</td><td>2</td><td>3</td><td>2</td><td>3</td><td>3</td><td>3</td><td>3</td></tr>\n",
       "\t<tr><th scope=row>6</th><td>2</td><td>2</td><td>2</td><td>2</td><td>2</td><td>3</td><td>2</td><td>3</td><td>3</td><td>3</td><td>2</td></tr>\n",
       "</tbody>\n",
       "</table>\n"
      ],
      "text/latex": [
       "A data.frame: 6 × 11\n",
       "\\begin{tabular}{r|lllllllllll}\n",
       "  & Item1 & Item2 & Item3 & Item4 & Item5 & Item6 & Item7 & Item8 & Item9 & Item10 & Item11\\\\\n",
       "  & <int> & <int> & <int> & <int> & <int> & <int> & <int> & <int> & <int> & <int> & <int>\\\\\n",
       "\\hline\n",
       "\t1 & 2 & 1 & 2 & 2 & 2 & 3 & 2 & 3 & 3 & 2 & 3\\\\\n",
       "\t2 & 3 & 1 & 1 & 2 & 1 & 3 & 1 & 3 & 3 & 3 & 3\\\\\n",
       "\t3 & 3 & 2 & 2 & 1 & 2 & 3 & 2 & 3 & 3 & 3 & 3\\\\\n",
       "\t4 & 2 & 2 & 2 & 2 & 2 & 2 & 3 & 3 & 3 & 3 & 3\\\\\n",
       "\t5 & 3 & 1 & 1 & 1 & 2 & 3 & 2 & 3 & 3 & 3 & 3\\\\\n",
       "\t6 & 2 & 2 & 2 & 2 & 2 & 3 & 2 & 3 & 3 & 3 & 2\\\\\n",
       "\\end{tabular}\n"
      ],
      "text/markdown": [
       "\n",
       "A data.frame: 6 × 11\n",
       "\n",
       "| <!--/--> | Item1 &lt;int&gt; | Item2 &lt;int&gt; | Item3 &lt;int&gt; | Item4 &lt;int&gt; | Item5 &lt;int&gt; | Item6 &lt;int&gt; | Item7 &lt;int&gt; | Item8 &lt;int&gt; | Item9 &lt;int&gt; | Item10 &lt;int&gt; | Item11 &lt;int&gt; |\n",
       "|---|---|---|---|---|---|---|---|---|---|---|---|\n",
       "| 1 | 2 | 1 | 2 | 2 | 2 | 3 | 2 | 3 | 3 | 2 | 3 |\n",
       "| 2 | 3 | 1 | 1 | 2 | 1 | 3 | 1 | 3 | 3 | 3 | 3 |\n",
       "| 3 | 3 | 2 | 2 | 1 | 2 | 3 | 2 | 3 | 3 | 3 | 3 |\n",
       "| 4 | 2 | 2 | 2 | 2 | 2 | 2 | 3 | 3 | 3 | 3 | 3 |\n",
       "| 5 | 3 | 1 | 1 | 1 | 2 | 3 | 2 | 3 | 3 | 3 | 3 |\n",
       "| 6 | 2 | 2 | 2 | 2 | 2 | 3 | 2 | 3 | 3 | 3 | 2 |\n",
       "\n"
      ],
      "text/plain": [
       "  Item1 Item2 Item3 Item4 Item5 Item6 Item7 Item8 Item9 Item10 Item11\n",
       "1 2     1     2     2     2     3     2     3     3     2      3     \n",
       "2 3     1     1     2     1     3     1     3     3     3      3     \n",
       "3 3     2     2     1     2     3     2     3     3     3      3     \n",
       "4 2     2     2     2     2     2     3     3     3     3      3     \n",
       "5 3     1     1     1     2     3     2     3     3     3      3     \n",
       "6 2     2     2     2     2     3     2     3     3     3      2     "
      ]
     },
     "metadata": {},
     "output_type": "display_data"
    }
   ],
   "source": [
    "head(data)"
   ]
  },
  {
   "cell_type": "code",
   "execution_count": 40,
   "metadata": {},
   "outputs": [
    {
     "data": {
      "text/html": [
       "2844"
      ],
      "text/latex": [
       "2844"
      ],
      "text/markdown": [
       "2844"
      ],
      "text/plain": [
       "[1] 2844"
      ]
     },
     "metadata": {},
     "output_type": "display_data"
    }
   ],
   "source": [
    "length(data$Item11)"
   ]
  },
  {
   "cell_type": "markdown",
   "metadata": {},
   "source": [
    "# Normality Checking and Correlations"
   ]
  },
  {
   "cell_type": "code",
   "execution_count": 44,
   "metadata": {},
   "outputs": [
    {
     "name": "stderr",
     "output_type": "stream",
     "text": [
      "Registered S3 methods overwritten by 'car':\n",
      "  method                          from\n",
      "  influence.merMod                lme4\n",
      "  cooks.distance.influence.merMod lme4\n",
      "  dfbeta.influence.merMod         lme4\n",
      "  dfbetas.influence.merMod        lme4\n",
      "\n",
      "Registered S3 method overwritten by 'GGally':\n",
      "  method from   \n",
      "  +.gg   ggplot2\n",
      "\n",
      "sROC 0.1-2 loaded\n",
      "\n"
     ]
    },
    {
     "data": {
      "text/html": [
       "<dl>\n",
       "\t<dt>$multivariateNormality</dt>\n",
       "\t\t<dd><table>\n",
       "<caption>A data.frame: 1 × 4</caption>\n",
       "<thead>\n",
       "\t<tr><th scope=col>Test</th><th scope=col>HZ</th><th scope=col>p value</th><th scope=col>MVN</th></tr>\n",
       "\t<tr><th scope=col>&lt;chr&gt;</th><th scope=col>&lt;dbl&gt;</th><th scope=col>&lt;dbl&gt;</th><th scope=col>&lt;chr&gt;</th></tr>\n",
       "</thead>\n",
       "<tbody>\n",
       "\t<tr><td>Henze-Zirkler</td><td>44</td><td>0</td><td>NO</td></tr>\n",
       "</tbody>\n",
       "</table>\n",
       "</dd>\n",
       "\t<dt>$univariateNormality</dt>\n",
       "\t\t<dd><table>\n",
       "<caption>A data.frame: 11 × 5</caption>\n",
       "<thead>\n",
       "\t<tr><th></th><th scope=col>Test</th><th scope=col>Variable</th><th scope=col>Statistic</th><th scope=col>p value</th><th scope=col>Normality</th></tr>\n",
       "\t<tr><th></th><th scope=col>&lt;I&lt;chr&gt;&gt;</th><th scope=col>&lt;I&lt;chr&gt;&gt;</th><th scope=col>&lt;I&lt;chr&gt;&gt;</th><th scope=col>&lt;I&lt;chr&gt;&gt;</th><th scope=col>&lt;I&lt;chr&gt;&gt;</th></tr>\n",
       "</thead>\n",
       "<tbody>\n",
       "\t<tr><th scope=row>1</th><td>Shapiro-Wilk</td><td>  Item1  </td><td>   0.7658</td><td> 0.0033  </td><td>   NO    </td></tr>\n",
       "\t<tr><th scope=row>2</th><td>Shapiro-Wilk</td><td>  Item2  </td><td>   0.7982</td><td> 0.0089  </td><td>   NO    </td></tr>\n",
       "\t<tr><th scope=row>3</th><td>Shapiro-Wilk</td><td>  Item3  </td><td>   0.7568</td><td> 0.0025  </td><td>   NO    </td></tr>\n",
       "\t<tr><th scope=row>4</th><td>Shapiro-Wilk</td><td>  Item4  </td><td>   0.7578</td><td> 0.0026  </td><td>   NO    </td></tr>\n",
       "\t<tr><th scope=row>5</th><td>Shapiro-Wilk</td><td>  Item5  </td><td>   0.7511</td><td> 0.0021  </td><td>   NO    </td></tr>\n",
       "\t<tr><th scope=row>6</th><td>Shapiro-Wilk</td><td>  Item6  </td><td>   0.8776</td><td> 0.0971  </td><td>   YES   </td></tr>\n",
       "\t<tr><th scope=row>7</th><td>Shapiro-Wilk</td><td><span style=white-space:pre-wrap>  Item7  </span></td><td><span style=white-space:pre-wrap>   0.5391</span></td><td><span style=white-space:pre-wrap> &lt;0.001  </span></td><td><span style=white-space:pre-wrap>   NO    </span></td></tr>\n",
       "\t<tr><th scope=row>8</th><td>Shapiro-Wilk</td><td>  Item8  </td><td>   0.8920</td><td> 0.1473  </td><td>   YES   </td></tr>\n",
       "\t<tr><th scope=row>9</th><td>Shapiro-Wilk</td><td>  Item9  </td><td>   0.8614</td><td>  0.06   </td><td>   YES   </td></tr>\n",
       "\t<tr><th scope=row>10</th><td>Shapiro-Wilk</td><td> Item10  </td><td>   0.8879</td><td> 0.1309  </td><td>   YES   </td></tr>\n",
       "\t<tr><th scope=row>11</th><td>Shapiro-Wilk</td><td> Item11  </td><td>   0.8031</td><td> 0.0103  </td><td>   NO    </td></tr>\n",
       "</tbody>\n",
       "</table>\n",
       "</dd>\n",
       "\t<dt>$Descriptives</dt>\n",
       "\t\t<dd><table>\n",
       "<caption>A data.frame: 11 × 10</caption>\n",
       "<thead>\n",
       "\t<tr><th></th><th scope=col>n</th><th scope=col>Mean</th><th scope=col>Std.Dev</th><th scope=col>Median</th><th scope=col>Min</th><th scope=col>Max</th><th scope=col>25th</th><th scope=col>75th</th><th scope=col>Skew</th><th scope=col>Kurtosis</th></tr>\n",
       "\t<tr><th></th><th scope=col>&lt;int&gt;</th><th scope=col>&lt;dbl&gt;</th><th scope=col>&lt;dbl&gt;</th><th scope=col>&lt;dbl&gt;</th><th scope=col>&lt;dbl&gt;</th><th scope=col>&lt;dbl&gt;</th><th scope=col>&lt;dbl&gt;</th><th scope=col>&lt;dbl&gt;</th><th scope=col>&lt;dbl&gt;</th><th scope=col>&lt;dbl&gt;</th></tr>\n",
       "</thead>\n",
       "<tbody>\n",
       "\t<tr><th scope=row>Item1</th><td>11</td><td>0.14181818</td><td>0.3187105</td><td> 0.15</td><td>-0.17</td><td>1</td><td>-0.070</td><td>0.200</td><td>1.5928018</td><td> 1.93600303</td></tr>\n",
       "\t<tr><th scope=row>Item2</th><td>11</td><td>0.10909091</td><td>0.3550621</td><td>-0.06</td><td>-0.19</td><td>1</td><td>-0.125</td><td>0.250</td><td>1.3062056</td><td> 0.77172595</td></tr>\n",
       "\t<tr><th scope=row>Item3</th><td>11</td><td>0.10272727</td><td>0.3466436</td><td>-0.04</td><td>-0.16</td><td>1</td><td>-0.120</td><td>0.210</td><td>1.4831889</td><td> 1.21731364</td></tr>\n",
       "\t<tr><th scope=row>Item4</th><td>11</td><td>0.09818182</td><td>0.3376631</td><td>-0.05</td><td>-0.19</td><td>1</td><td>-0.100</td><td>0.180</td><td>1.5879352</td><td> 1.74630356</td></tr>\n",
       "\t<tr><th scope=row>Item5</th><td>11</td><td>0.08636364</td><td>0.3419729</td><td>-0.04</td><td>-0.18</td><td>1</td><td>-0.150</td><td>0.175</td><td>1.5876338</td><td> 1.75190016</td></tr>\n",
       "\t<tr><th scope=row>Item6</th><td>11</td><td>0.17454545</td><td>0.3523454</td><td> 0.15</td><td>-0.18</td><td>1</td><td>-0.130</td><td>0.330</td><td>0.9159816</td><td> 0.05314845</td></tr>\n",
       "\t<tr><th scope=row>Item7</th><td>11</td><td>0.15363636</td><td>0.2869241</td><td> 0.06</td><td>-0.01</td><td>1</td><td> 0.030</td><td>0.135</td><td>2.2784368</td><td> 3.90958580</td></tr>\n",
       "\t<tr><th scope=row>Item8</th><td>11</td><td>0.22000000</td><td>0.3541469</td><td> 0.23</td><td>-0.13</td><td>1</td><td>-0.085</td><td>0.390</td><td>0.7634897</td><td>-0.48316768</td></tr>\n",
       "\t<tr><th scope=row>Item9</th><td>11</td><td>0.17909091</td><td>0.3354536</td><td> 0.17</td><td>-0.18</td><td>1</td><td>-0.055</td><td>0.330</td><td>1.1036648</td><td> 0.51547892</td></tr>\n",
       "\t<tr><th scope=row>Item10</th><td>11</td><td>0.20090909</td><td>0.3795380</td><td> 0.24</td><td>-0.19</td><td>1</td><td>-0.160</td><td>0.360</td><td>0.5819827</td><td>-0.77466209</td></tr>\n",
       "\t<tr><th scope=row>Item11</th><td>11</td><td>0.18818182</td><td>0.3135225</td><td> 0.17</td><td>-0.11</td><td>1</td><td>-0.050</td><td>0.245</td><td>1.3652288</td><td> 1.29555440</td></tr>\n",
       "</tbody>\n",
       "</table>\n",
       "</dd>\n",
       "</dl>\n"
      ],
      "text/latex": [
       "\\begin{description}\n",
       "\\item[\\$multivariateNormality] A data.frame: 1 × 4\n",
       "\\begin{tabular}{llll}\n",
       " Test & HZ & p value & MVN\\\\\n",
       " <chr> & <dbl> & <dbl> & <chr>\\\\\n",
       "\\hline\n",
       "\t Henze-Zirkler & 44 & 0 & NO\\\\\n",
       "\\end{tabular}\n",
       "\n",
       "\\item[\\$univariateNormality] A data.frame: 11 × 5\n",
       "\\begin{tabular}{r|lllll}\n",
       "  & Test & Variable & Statistic & p value & Normality\\\\\n",
       "  & <I<chr>> & <I<chr>> & <I<chr>> & <I<chr>> & <I<chr>>\\\\\n",
       "\\hline\n",
       "\t1 & Shapiro-Wilk &   Item1   &    0.7658 &  0.0033   &    NO    \\\\\n",
       "\t2 & Shapiro-Wilk &   Item2   &    0.7982 &  0.0089   &    NO    \\\\\n",
       "\t3 & Shapiro-Wilk &   Item3   &    0.7568 &  0.0025   &    NO    \\\\\n",
       "\t4 & Shapiro-Wilk &   Item4   &    0.7578 &  0.0026   &    NO    \\\\\n",
       "\t5 & Shapiro-Wilk &   Item5   &    0.7511 &  0.0021   &    NO    \\\\\n",
       "\t6 & Shapiro-Wilk &   Item6   &    0.8776 &  0.0971   &    YES   \\\\\n",
       "\t7 & Shapiro-Wilk &   Item7   &    0.5391 &  <0.001   &    NO    \\\\\n",
       "\t8 & Shapiro-Wilk &   Item8   &    0.8920 &  0.1473   &    YES   \\\\\n",
       "\t9 & Shapiro-Wilk &   Item9   &    0.8614 &   0.06    &    YES   \\\\\n",
       "\t10 & Shapiro-Wilk &  Item10   &    0.8879 &  0.1309   &    YES   \\\\\n",
       "\t11 & Shapiro-Wilk &  Item11   &    0.8031 &  0.0103   &    NO    \\\\\n",
       "\\end{tabular}\n",
       "\n",
       "\\item[\\$Descriptives] A data.frame: 11 × 10\n",
       "\\begin{tabular}{r|llllllllll}\n",
       "  & n & Mean & Std.Dev & Median & Min & Max & 25th & 75th & Skew & Kurtosis\\\\\n",
       "  & <int> & <dbl> & <dbl> & <dbl> & <dbl> & <dbl> & <dbl> & <dbl> & <dbl> & <dbl>\\\\\n",
       "\\hline\n",
       "\tItem1 & 11 & 0.14181818 & 0.3187105 &  0.15 & -0.17 & 1 & -0.070 & 0.200 & 1.5928018 &  1.93600303\\\\\n",
       "\tItem2 & 11 & 0.10909091 & 0.3550621 & -0.06 & -0.19 & 1 & -0.125 & 0.250 & 1.3062056 &  0.77172595\\\\\n",
       "\tItem3 & 11 & 0.10272727 & 0.3466436 & -0.04 & -0.16 & 1 & -0.120 & 0.210 & 1.4831889 &  1.21731364\\\\\n",
       "\tItem4 & 11 & 0.09818182 & 0.3376631 & -0.05 & -0.19 & 1 & -0.100 & 0.180 & 1.5879352 &  1.74630356\\\\\n",
       "\tItem5 & 11 & 0.08636364 & 0.3419729 & -0.04 & -0.18 & 1 & -0.150 & 0.175 & 1.5876338 &  1.75190016\\\\\n",
       "\tItem6 & 11 & 0.17454545 & 0.3523454 &  0.15 & -0.18 & 1 & -0.130 & 0.330 & 0.9159816 &  0.05314845\\\\\n",
       "\tItem7 & 11 & 0.15363636 & 0.2869241 &  0.06 & -0.01 & 1 &  0.030 & 0.135 & 2.2784368 &  3.90958580\\\\\n",
       "\tItem8 & 11 & 0.22000000 & 0.3541469 &  0.23 & -0.13 & 1 & -0.085 & 0.390 & 0.7634897 & -0.48316768\\\\\n",
       "\tItem9 & 11 & 0.17909091 & 0.3354536 &  0.17 & -0.18 & 1 & -0.055 & 0.330 & 1.1036648 &  0.51547892\\\\\n",
       "\tItem10 & 11 & 0.20090909 & 0.3795380 &  0.24 & -0.19 & 1 & -0.160 & 0.360 & 0.5819827 & -0.77466209\\\\\n",
       "\tItem11 & 11 & 0.18818182 & 0.3135225 &  0.17 & -0.11 & 1 & -0.050 & 0.245 & 1.3652288 &  1.29555440\\\\\n",
       "\\end{tabular}\n",
       "\n",
       "\\end{description}\n"
      ],
      "text/markdown": [
       "$multivariateNormality\n",
       ":   \n",
       "A data.frame: 1 × 4\n",
       "\n",
       "| Test &lt;chr&gt; | HZ &lt;dbl&gt; | p value &lt;dbl&gt; | MVN &lt;chr&gt; |\n",
       "|---|---|---|---|\n",
       "| Henze-Zirkler | 44 | 0 | NO |\n",
       "\n",
       "\n",
       "$univariateNormality\n",
       ":   \n",
       "A data.frame: 11 × 5\n",
       "\n",
       "| <!--/--> | Test &lt;I&lt;chr&gt;&gt; | Variable &lt;I&lt;chr&gt;&gt; | Statistic &lt;I&lt;chr&gt;&gt; | p value &lt;I&lt;chr&gt;&gt; | Normality &lt;I&lt;chr&gt;&gt; |\n",
       "|---|---|---|---|---|---|\n",
       "| 1 | Shapiro-Wilk |   Item1   |    0.7658 |  0.0033   |    NO     |\n",
       "| 2 | Shapiro-Wilk |   Item2   |    0.7982 |  0.0089   |    NO     |\n",
       "| 3 | Shapiro-Wilk |   Item3   |    0.7568 |  0.0025   |    NO     |\n",
       "| 4 | Shapiro-Wilk |   Item4   |    0.7578 |  0.0026   |    NO     |\n",
       "| 5 | Shapiro-Wilk |   Item5   |    0.7511 |  0.0021   |    NO     |\n",
       "| 6 | Shapiro-Wilk |   Item6   |    0.8776 |  0.0971   |    YES    |\n",
       "| 7 | Shapiro-Wilk |   Item7   |    0.5391 |  &lt;0.001   |    NO     |\n",
       "| 8 | Shapiro-Wilk |   Item8   |    0.8920 |  0.1473   |    YES    |\n",
       "| 9 | Shapiro-Wilk |   Item9   |    0.8614 |   0.06    |    YES    |\n",
       "| 10 | Shapiro-Wilk |  Item10   |    0.8879 |  0.1309   |    YES    |\n",
       "| 11 | Shapiro-Wilk |  Item11   |    0.8031 |  0.0103   |    NO     |\n",
       "\n",
       "\n",
       "$Descriptives\n",
       ":   \n",
       "A data.frame: 11 × 10\n",
       "\n",
       "| <!--/--> | n &lt;int&gt; | Mean &lt;dbl&gt; | Std.Dev &lt;dbl&gt; | Median &lt;dbl&gt; | Min &lt;dbl&gt; | Max &lt;dbl&gt; | 25th &lt;dbl&gt; | 75th &lt;dbl&gt; | Skew &lt;dbl&gt; | Kurtosis &lt;dbl&gt; |\n",
       "|---|---|---|---|---|---|---|---|---|---|---|\n",
       "| Item1 | 11 | 0.14181818 | 0.3187105 |  0.15 | -0.17 | 1 | -0.070 | 0.200 | 1.5928018 |  1.93600303 |\n",
       "| Item2 | 11 | 0.10909091 | 0.3550621 | -0.06 | -0.19 | 1 | -0.125 | 0.250 | 1.3062056 |  0.77172595 |\n",
       "| Item3 | 11 | 0.10272727 | 0.3466436 | -0.04 | -0.16 | 1 | -0.120 | 0.210 | 1.4831889 |  1.21731364 |\n",
       "| Item4 | 11 | 0.09818182 | 0.3376631 | -0.05 | -0.19 | 1 | -0.100 | 0.180 | 1.5879352 |  1.74630356 |\n",
       "| Item5 | 11 | 0.08636364 | 0.3419729 | -0.04 | -0.18 | 1 | -0.150 | 0.175 | 1.5876338 |  1.75190016 |\n",
       "| Item6 | 11 | 0.17454545 | 0.3523454 |  0.15 | -0.18 | 1 | -0.130 | 0.330 | 0.9159816 |  0.05314845 |\n",
       "| Item7 | 11 | 0.15363636 | 0.2869241 |  0.06 | -0.01 | 1 |  0.030 | 0.135 | 2.2784368 |  3.90958580 |\n",
       "| Item8 | 11 | 0.22000000 | 0.3541469 |  0.23 | -0.13 | 1 | -0.085 | 0.390 | 0.7634897 | -0.48316768 |\n",
       "| Item9 | 11 | 0.17909091 | 0.3354536 |  0.17 | -0.18 | 1 | -0.055 | 0.330 | 1.1036648 |  0.51547892 |\n",
       "| Item10 | 11 | 0.20090909 | 0.3795380 |  0.24 | -0.19 | 1 | -0.160 | 0.360 | 0.5819827 | -0.77466209 |\n",
       "| Item11 | 11 | 0.18818182 | 0.3135225 |  0.17 | -0.11 | 1 | -0.050 | 0.245 | 1.3652288 |  1.29555440 |\n",
       "\n",
       "\n",
       "\n",
       "\n"
      ],
      "text/plain": [
       "$multivariateNormality\n",
       "           Test HZ p value MVN\n",
       "1 Henze-Zirkler 44       0  NO\n",
       "\n",
       "$univariateNormality\n",
       "           Test  Variable Statistic   p value Normality\n",
       "1  Shapiro-Wilk   Item1      0.7658  0.0033      NO    \n",
       "2  Shapiro-Wilk   Item2      0.7982  0.0089      NO    \n",
       "3  Shapiro-Wilk   Item3      0.7568  0.0025      NO    \n",
       "4  Shapiro-Wilk   Item4      0.7578  0.0026      NO    \n",
       "5  Shapiro-Wilk   Item5      0.7511  0.0021      NO    \n",
       "6  Shapiro-Wilk   Item6      0.8776  0.0971      YES   \n",
       "7  Shapiro-Wilk   Item7      0.5391  <0.001      NO    \n",
       "8  Shapiro-Wilk   Item8      0.8920  0.1473      YES   \n",
       "9  Shapiro-Wilk   Item9      0.8614   0.06       YES   \n",
       "10 Shapiro-Wilk  Item10      0.8879  0.1309      YES   \n",
       "11 Shapiro-Wilk  Item11      0.8031  0.0103      NO    \n",
       "\n",
       "$Descriptives\n",
       "        n       Mean   Std.Dev Median   Min Max   25th  75th      Skew\n",
       "Item1  11 0.14181818 0.3187105   0.15 -0.17   1 -0.070 0.200 1.5928018\n",
       "Item2  11 0.10909091 0.3550621  -0.06 -0.19   1 -0.125 0.250 1.3062056\n",
       "Item3  11 0.10272727 0.3466436  -0.04 -0.16   1 -0.120 0.210 1.4831889\n",
       "Item4  11 0.09818182 0.3376631  -0.05 -0.19   1 -0.100 0.180 1.5879352\n",
       "Item5  11 0.08636364 0.3419729  -0.04 -0.18   1 -0.150 0.175 1.5876338\n",
       "Item6  11 0.17454545 0.3523454   0.15 -0.18   1 -0.130 0.330 0.9159816\n",
       "Item7  11 0.15363636 0.2869241   0.06 -0.01   1  0.030 0.135 2.2784368\n",
       "Item8  11 0.22000000 0.3541469   0.23 -0.13   1 -0.085 0.390 0.7634897\n",
       "Item9  11 0.17909091 0.3354536   0.17 -0.18   1 -0.055 0.330 1.1036648\n",
       "Item10 11 0.20090909 0.3795380   0.24 -0.19   1 -0.160 0.360 0.5819827\n",
       "Item11 11 0.18818182 0.3135225   0.17 -0.11   1 -0.050 0.245 1.3652288\n",
       "          Kurtosis\n",
       "Item1   1.93600303\n",
       "Item2   0.77172595\n",
       "Item3   1.21731364\n",
       "Item4   1.74630356\n",
       "Item5   1.75190016\n",
       "Item6   0.05314845\n",
       "Item7   3.90958580\n",
       "Item8  -0.48316768\n",
       "Item9   0.51547892\n",
       "Item10 -0.77466209\n",
       "Item11  1.29555440\n"
      ]
     },
     "metadata": {},
     "output_type": "display_data"
    }
   ],
   "source": [
    "library(MVN)\n",
    "result <- mvn(data = data, mvnTest = \"hz\")\n",
    "result"
   ]
  },
  {
   "cell_type": "code",
   "execution_count": 45,
   "metadata": {},
   "outputs": [
    {
     "data": {
      "text/html": [
       "<dl>\n",
       "\t<dt>$multivariateNormality</dt>\n",
       "\t\t<dd><table>\n",
       "<caption>A data.frame: 3 × 4</caption>\n",
       "<thead>\n",
       "\t<tr><th scope=col>Test</th><th scope=col>Statistic</th><th scope=col>p value</th><th scope=col>Result</th></tr>\n",
       "\t<tr><th scope=col>&lt;chr&gt;</th><th scope=col>&lt;fct&gt;</th><th scope=col>&lt;fct&gt;</th><th scope=col>&lt;chr&gt;</th></tr>\n",
       "</thead>\n",
       "<tbody>\n",
       "\t<tr><td>Mardia Skewness</td><td>221.15229180738  </td><td>0.998250853325916   </td><td>YES</td></tr>\n",
       "\t<tr><td>Mardia Kurtosis</td><td>-3.51792588273358</td><td>0.000434933822132333</td><td>NO </td></tr>\n",
       "\t<tr><td>MVN            </td><td>NA               </td><td>NA                  </td><td>NO </td></tr>\n",
       "</tbody>\n",
       "</table>\n",
       "</dd>\n",
       "\t<dt>$univariateNormality</dt>\n",
       "\t\t<dd><table>\n",
       "<caption>A data.frame: 11 × 5</caption>\n",
       "<thead>\n",
       "\t<tr><th></th><th scope=col>Test</th><th scope=col>Variable</th><th scope=col>Statistic</th><th scope=col>p value</th><th scope=col>Normality</th></tr>\n",
       "\t<tr><th></th><th scope=col>&lt;I&lt;chr&gt;&gt;</th><th scope=col>&lt;I&lt;chr&gt;&gt;</th><th scope=col>&lt;I&lt;chr&gt;&gt;</th><th scope=col>&lt;I&lt;chr&gt;&gt;</th><th scope=col>&lt;I&lt;chr&gt;&gt;</th></tr>\n",
       "</thead>\n",
       "<tbody>\n",
       "\t<tr><th scope=row>1</th><td>Shapiro-Wilk</td><td>  Item1  </td><td>   0.7658</td><td> 0.0033  </td><td>   NO    </td></tr>\n",
       "\t<tr><th scope=row>2</th><td>Shapiro-Wilk</td><td>  Item2  </td><td>   0.7982</td><td> 0.0089  </td><td>   NO    </td></tr>\n",
       "\t<tr><th scope=row>3</th><td>Shapiro-Wilk</td><td>  Item3  </td><td>   0.7568</td><td> 0.0025  </td><td>   NO    </td></tr>\n",
       "\t<tr><th scope=row>4</th><td>Shapiro-Wilk</td><td>  Item4  </td><td>   0.7578</td><td> 0.0026  </td><td>   NO    </td></tr>\n",
       "\t<tr><th scope=row>5</th><td>Shapiro-Wilk</td><td>  Item5  </td><td>   0.7511</td><td> 0.0021  </td><td>   NO    </td></tr>\n",
       "\t<tr><th scope=row>6</th><td>Shapiro-Wilk</td><td>  Item6  </td><td>   0.8776</td><td> 0.0971  </td><td>   YES   </td></tr>\n",
       "\t<tr><th scope=row>7</th><td>Shapiro-Wilk</td><td><span style=white-space:pre-wrap>  Item7  </span></td><td><span style=white-space:pre-wrap>   0.5391</span></td><td><span style=white-space:pre-wrap> &lt;0.001  </span></td><td><span style=white-space:pre-wrap>   NO    </span></td></tr>\n",
       "\t<tr><th scope=row>8</th><td>Shapiro-Wilk</td><td>  Item8  </td><td>   0.8920</td><td> 0.1473  </td><td>   YES   </td></tr>\n",
       "\t<tr><th scope=row>9</th><td>Shapiro-Wilk</td><td>  Item9  </td><td>   0.8614</td><td>  0.06   </td><td>   YES   </td></tr>\n",
       "\t<tr><th scope=row>10</th><td>Shapiro-Wilk</td><td> Item10  </td><td>   0.8879</td><td> 0.1309  </td><td>   YES   </td></tr>\n",
       "\t<tr><th scope=row>11</th><td>Shapiro-Wilk</td><td> Item11  </td><td>   0.8031</td><td> 0.0103  </td><td>   NO    </td></tr>\n",
       "</tbody>\n",
       "</table>\n",
       "</dd>\n",
       "\t<dt>$Descriptives</dt>\n",
       "\t\t<dd><table>\n",
       "<caption>A data.frame: 11 × 10</caption>\n",
       "<thead>\n",
       "\t<tr><th></th><th scope=col>n</th><th scope=col>Mean</th><th scope=col>Std.Dev</th><th scope=col>Median</th><th scope=col>Min</th><th scope=col>Max</th><th scope=col>25th</th><th scope=col>75th</th><th scope=col>Skew</th><th scope=col>Kurtosis</th></tr>\n",
       "\t<tr><th></th><th scope=col>&lt;int&gt;</th><th scope=col>&lt;dbl&gt;</th><th scope=col>&lt;dbl&gt;</th><th scope=col>&lt;dbl&gt;</th><th scope=col>&lt;dbl&gt;</th><th scope=col>&lt;dbl&gt;</th><th scope=col>&lt;dbl&gt;</th><th scope=col>&lt;dbl&gt;</th><th scope=col>&lt;dbl&gt;</th><th scope=col>&lt;dbl&gt;</th></tr>\n",
       "</thead>\n",
       "<tbody>\n",
       "\t<tr><th scope=row>Item1</th><td>11</td><td>0.14181818</td><td>0.3187105</td><td> 0.15</td><td>-0.17</td><td>1</td><td>-0.070</td><td>0.200</td><td>1.5928018</td><td> 1.93600303</td></tr>\n",
       "\t<tr><th scope=row>Item2</th><td>11</td><td>0.10909091</td><td>0.3550621</td><td>-0.06</td><td>-0.19</td><td>1</td><td>-0.125</td><td>0.250</td><td>1.3062056</td><td> 0.77172595</td></tr>\n",
       "\t<tr><th scope=row>Item3</th><td>11</td><td>0.10272727</td><td>0.3466436</td><td>-0.04</td><td>-0.16</td><td>1</td><td>-0.120</td><td>0.210</td><td>1.4831889</td><td> 1.21731364</td></tr>\n",
       "\t<tr><th scope=row>Item4</th><td>11</td><td>0.09818182</td><td>0.3376631</td><td>-0.05</td><td>-0.19</td><td>1</td><td>-0.100</td><td>0.180</td><td>1.5879352</td><td> 1.74630356</td></tr>\n",
       "\t<tr><th scope=row>Item5</th><td>11</td><td>0.08636364</td><td>0.3419729</td><td>-0.04</td><td>-0.18</td><td>1</td><td>-0.150</td><td>0.175</td><td>1.5876338</td><td> 1.75190016</td></tr>\n",
       "\t<tr><th scope=row>Item6</th><td>11</td><td>0.17454545</td><td>0.3523454</td><td> 0.15</td><td>-0.18</td><td>1</td><td>-0.130</td><td>0.330</td><td>0.9159816</td><td> 0.05314845</td></tr>\n",
       "\t<tr><th scope=row>Item7</th><td>11</td><td>0.15363636</td><td>0.2869241</td><td> 0.06</td><td>-0.01</td><td>1</td><td> 0.030</td><td>0.135</td><td>2.2784368</td><td> 3.90958580</td></tr>\n",
       "\t<tr><th scope=row>Item8</th><td>11</td><td>0.22000000</td><td>0.3541469</td><td> 0.23</td><td>-0.13</td><td>1</td><td>-0.085</td><td>0.390</td><td>0.7634897</td><td>-0.48316768</td></tr>\n",
       "\t<tr><th scope=row>Item9</th><td>11</td><td>0.17909091</td><td>0.3354536</td><td> 0.17</td><td>-0.18</td><td>1</td><td>-0.055</td><td>0.330</td><td>1.1036648</td><td> 0.51547892</td></tr>\n",
       "\t<tr><th scope=row>Item10</th><td>11</td><td>0.20090909</td><td>0.3795380</td><td> 0.24</td><td>-0.19</td><td>1</td><td>-0.160</td><td>0.360</td><td>0.5819827</td><td>-0.77466209</td></tr>\n",
       "\t<tr><th scope=row>Item11</th><td>11</td><td>0.18818182</td><td>0.3135225</td><td> 0.17</td><td>-0.11</td><td>1</td><td>-0.050</td><td>0.245</td><td>1.3652288</td><td> 1.29555440</td></tr>\n",
       "</tbody>\n",
       "</table>\n",
       "</dd>\n",
       "</dl>\n"
      ],
      "text/latex": [
       "\\begin{description}\n",
       "\\item[\\$multivariateNormality] A data.frame: 3 × 4\n",
       "\\begin{tabular}{llll}\n",
       " Test & Statistic & p value & Result\\\\\n",
       " <chr> & <fct> & <fct> & <chr>\\\\\n",
       "\\hline\n",
       "\t Mardia Skewness & 221.15229180738   & 0.998250853325916    & YES\\\\\n",
       "\t Mardia Kurtosis & -3.51792588273358 & 0.000434933822132333 & NO \\\\\n",
       "\t MVN             & NA                & NA                   & NO \\\\\n",
       "\\end{tabular}\n",
       "\n",
       "\\item[\\$univariateNormality] A data.frame: 11 × 5\n",
       "\\begin{tabular}{r|lllll}\n",
       "  & Test & Variable & Statistic & p value & Normality\\\\\n",
       "  & <I<chr>> & <I<chr>> & <I<chr>> & <I<chr>> & <I<chr>>\\\\\n",
       "\\hline\n",
       "\t1 & Shapiro-Wilk &   Item1   &    0.7658 &  0.0033   &    NO    \\\\\n",
       "\t2 & Shapiro-Wilk &   Item2   &    0.7982 &  0.0089   &    NO    \\\\\n",
       "\t3 & Shapiro-Wilk &   Item3   &    0.7568 &  0.0025   &    NO    \\\\\n",
       "\t4 & Shapiro-Wilk &   Item4   &    0.7578 &  0.0026   &    NO    \\\\\n",
       "\t5 & Shapiro-Wilk &   Item5   &    0.7511 &  0.0021   &    NO    \\\\\n",
       "\t6 & Shapiro-Wilk &   Item6   &    0.8776 &  0.0971   &    YES   \\\\\n",
       "\t7 & Shapiro-Wilk &   Item7   &    0.5391 &  <0.001   &    NO    \\\\\n",
       "\t8 & Shapiro-Wilk &   Item8   &    0.8920 &  0.1473   &    YES   \\\\\n",
       "\t9 & Shapiro-Wilk &   Item9   &    0.8614 &   0.06    &    YES   \\\\\n",
       "\t10 & Shapiro-Wilk &  Item10   &    0.8879 &  0.1309   &    YES   \\\\\n",
       "\t11 & Shapiro-Wilk &  Item11   &    0.8031 &  0.0103   &    NO    \\\\\n",
       "\\end{tabular}\n",
       "\n",
       "\\item[\\$Descriptives] A data.frame: 11 × 10\n",
       "\\begin{tabular}{r|llllllllll}\n",
       "  & n & Mean & Std.Dev & Median & Min & Max & 25th & 75th & Skew & Kurtosis\\\\\n",
       "  & <int> & <dbl> & <dbl> & <dbl> & <dbl> & <dbl> & <dbl> & <dbl> & <dbl> & <dbl>\\\\\n",
       "\\hline\n",
       "\tItem1 & 11 & 0.14181818 & 0.3187105 &  0.15 & -0.17 & 1 & -0.070 & 0.200 & 1.5928018 &  1.93600303\\\\\n",
       "\tItem2 & 11 & 0.10909091 & 0.3550621 & -0.06 & -0.19 & 1 & -0.125 & 0.250 & 1.3062056 &  0.77172595\\\\\n",
       "\tItem3 & 11 & 0.10272727 & 0.3466436 & -0.04 & -0.16 & 1 & -0.120 & 0.210 & 1.4831889 &  1.21731364\\\\\n",
       "\tItem4 & 11 & 0.09818182 & 0.3376631 & -0.05 & -0.19 & 1 & -0.100 & 0.180 & 1.5879352 &  1.74630356\\\\\n",
       "\tItem5 & 11 & 0.08636364 & 0.3419729 & -0.04 & -0.18 & 1 & -0.150 & 0.175 & 1.5876338 &  1.75190016\\\\\n",
       "\tItem6 & 11 & 0.17454545 & 0.3523454 &  0.15 & -0.18 & 1 & -0.130 & 0.330 & 0.9159816 &  0.05314845\\\\\n",
       "\tItem7 & 11 & 0.15363636 & 0.2869241 &  0.06 & -0.01 & 1 &  0.030 & 0.135 & 2.2784368 &  3.90958580\\\\\n",
       "\tItem8 & 11 & 0.22000000 & 0.3541469 &  0.23 & -0.13 & 1 & -0.085 & 0.390 & 0.7634897 & -0.48316768\\\\\n",
       "\tItem9 & 11 & 0.17909091 & 0.3354536 &  0.17 & -0.18 & 1 & -0.055 & 0.330 & 1.1036648 &  0.51547892\\\\\n",
       "\tItem10 & 11 & 0.20090909 & 0.3795380 &  0.24 & -0.19 & 1 & -0.160 & 0.360 & 0.5819827 & -0.77466209\\\\\n",
       "\tItem11 & 11 & 0.18818182 & 0.3135225 &  0.17 & -0.11 & 1 & -0.050 & 0.245 & 1.3652288 &  1.29555440\\\\\n",
       "\\end{tabular}\n",
       "\n",
       "\\end{description}\n"
      ],
      "text/markdown": [
       "$multivariateNormality\n",
       ":   \n",
       "A data.frame: 3 × 4\n",
       "\n",
       "| Test &lt;chr&gt; | Statistic &lt;fct&gt; | p value &lt;fct&gt; | Result &lt;chr&gt; |\n",
       "|---|---|---|---|\n",
       "| Mardia Skewness | 221.15229180738   | 0.998250853325916    | YES |\n",
       "| Mardia Kurtosis | -3.51792588273358 | 0.000434933822132333 | NO  |\n",
       "| MVN             | NA                | NA                   | NO  |\n",
       "\n",
       "\n",
       "$univariateNormality\n",
       ":   \n",
       "A data.frame: 11 × 5\n",
       "\n",
       "| <!--/--> | Test &lt;I&lt;chr&gt;&gt; | Variable &lt;I&lt;chr&gt;&gt; | Statistic &lt;I&lt;chr&gt;&gt; | p value &lt;I&lt;chr&gt;&gt; | Normality &lt;I&lt;chr&gt;&gt; |\n",
       "|---|---|---|---|---|---|\n",
       "| 1 | Shapiro-Wilk |   Item1   |    0.7658 |  0.0033   |    NO     |\n",
       "| 2 | Shapiro-Wilk |   Item2   |    0.7982 |  0.0089   |    NO     |\n",
       "| 3 | Shapiro-Wilk |   Item3   |    0.7568 |  0.0025   |    NO     |\n",
       "| 4 | Shapiro-Wilk |   Item4   |    0.7578 |  0.0026   |    NO     |\n",
       "| 5 | Shapiro-Wilk |   Item5   |    0.7511 |  0.0021   |    NO     |\n",
       "| 6 | Shapiro-Wilk |   Item6   |    0.8776 |  0.0971   |    YES    |\n",
       "| 7 | Shapiro-Wilk |   Item7   |    0.5391 |  &lt;0.001   |    NO     |\n",
       "| 8 | Shapiro-Wilk |   Item8   |    0.8920 |  0.1473   |    YES    |\n",
       "| 9 | Shapiro-Wilk |   Item9   |    0.8614 |   0.06    |    YES    |\n",
       "| 10 | Shapiro-Wilk |  Item10   |    0.8879 |  0.1309   |    YES    |\n",
       "| 11 | Shapiro-Wilk |  Item11   |    0.8031 |  0.0103   |    NO     |\n",
       "\n",
       "\n",
       "$Descriptives\n",
       ":   \n",
       "A data.frame: 11 × 10\n",
       "\n",
       "| <!--/--> | n &lt;int&gt; | Mean &lt;dbl&gt; | Std.Dev &lt;dbl&gt; | Median &lt;dbl&gt; | Min &lt;dbl&gt; | Max &lt;dbl&gt; | 25th &lt;dbl&gt; | 75th &lt;dbl&gt; | Skew &lt;dbl&gt; | Kurtosis &lt;dbl&gt; |\n",
       "|---|---|---|---|---|---|---|---|---|---|---|\n",
       "| Item1 | 11 | 0.14181818 | 0.3187105 |  0.15 | -0.17 | 1 | -0.070 | 0.200 | 1.5928018 |  1.93600303 |\n",
       "| Item2 | 11 | 0.10909091 | 0.3550621 | -0.06 | -0.19 | 1 | -0.125 | 0.250 | 1.3062056 |  0.77172595 |\n",
       "| Item3 | 11 | 0.10272727 | 0.3466436 | -0.04 | -0.16 | 1 | -0.120 | 0.210 | 1.4831889 |  1.21731364 |\n",
       "| Item4 | 11 | 0.09818182 | 0.3376631 | -0.05 | -0.19 | 1 | -0.100 | 0.180 | 1.5879352 |  1.74630356 |\n",
       "| Item5 | 11 | 0.08636364 | 0.3419729 | -0.04 | -0.18 | 1 | -0.150 | 0.175 | 1.5876338 |  1.75190016 |\n",
       "| Item6 | 11 | 0.17454545 | 0.3523454 |  0.15 | -0.18 | 1 | -0.130 | 0.330 | 0.9159816 |  0.05314845 |\n",
       "| Item7 | 11 | 0.15363636 | 0.2869241 |  0.06 | -0.01 | 1 |  0.030 | 0.135 | 2.2784368 |  3.90958580 |\n",
       "| Item8 | 11 | 0.22000000 | 0.3541469 |  0.23 | -0.13 | 1 | -0.085 | 0.390 | 0.7634897 | -0.48316768 |\n",
       "| Item9 | 11 | 0.17909091 | 0.3354536 |  0.17 | -0.18 | 1 | -0.055 | 0.330 | 1.1036648 |  0.51547892 |\n",
       "| Item10 | 11 | 0.20090909 | 0.3795380 |  0.24 | -0.19 | 1 | -0.160 | 0.360 | 0.5819827 | -0.77466209 |\n",
       "| Item11 | 11 | 0.18818182 | 0.3135225 |  0.17 | -0.11 | 1 | -0.050 | 0.245 | 1.3652288 |  1.29555440 |\n",
       "\n",
       "\n",
       "\n",
       "\n"
      ],
      "text/plain": [
       "$multivariateNormality\n",
       "             Test         Statistic              p value Result\n",
       "1 Mardia Skewness   221.15229180738    0.998250853325916    YES\n",
       "2 Mardia Kurtosis -3.51792588273358 0.000434933822132333     NO\n",
       "3             MVN              <NA>                 <NA>     NO\n",
       "\n",
       "$univariateNormality\n",
       "           Test  Variable Statistic   p value Normality\n",
       "1  Shapiro-Wilk   Item1      0.7658  0.0033      NO    \n",
       "2  Shapiro-Wilk   Item2      0.7982  0.0089      NO    \n",
       "3  Shapiro-Wilk   Item3      0.7568  0.0025      NO    \n",
       "4  Shapiro-Wilk   Item4      0.7578  0.0026      NO    \n",
       "5  Shapiro-Wilk   Item5      0.7511  0.0021      NO    \n",
       "6  Shapiro-Wilk   Item6      0.8776  0.0971      YES   \n",
       "7  Shapiro-Wilk   Item7      0.5391  <0.001      NO    \n",
       "8  Shapiro-Wilk   Item8      0.8920  0.1473      YES   \n",
       "9  Shapiro-Wilk   Item9      0.8614   0.06       YES   \n",
       "10 Shapiro-Wilk  Item10      0.8879  0.1309      YES   \n",
       "11 Shapiro-Wilk  Item11      0.8031  0.0103      NO    \n",
       "\n",
       "$Descriptives\n",
       "        n       Mean   Std.Dev Median   Min Max   25th  75th      Skew\n",
       "Item1  11 0.14181818 0.3187105   0.15 -0.17   1 -0.070 0.200 1.5928018\n",
       "Item2  11 0.10909091 0.3550621  -0.06 -0.19   1 -0.125 0.250 1.3062056\n",
       "Item3  11 0.10272727 0.3466436  -0.04 -0.16   1 -0.120 0.210 1.4831889\n",
       "Item4  11 0.09818182 0.3376631  -0.05 -0.19   1 -0.100 0.180 1.5879352\n",
       "Item5  11 0.08636364 0.3419729  -0.04 -0.18   1 -0.150 0.175 1.5876338\n",
       "Item6  11 0.17454545 0.3523454   0.15 -0.18   1 -0.130 0.330 0.9159816\n",
       "Item7  11 0.15363636 0.2869241   0.06 -0.01   1  0.030 0.135 2.2784368\n",
       "Item8  11 0.22000000 0.3541469   0.23 -0.13   1 -0.085 0.390 0.7634897\n",
       "Item9  11 0.17909091 0.3354536   0.17 -0.18   1 -0.055 0.330 1.1036648\n",
       "Item10 11 0.20090909 0.3795380   0.24 -0.19   1 -0.160 0.360 0.5819827\n",
       "Item11 11 0.18818182 0.3135225   0.17 -0.11   1 -0.050 0.245 1.3652288\n",
       "          Kurtosis\n",
       "Item1   1.93600303\n",
       "Item2   0.77172595\n",
       "Item3   1.21731364\n",
       "Item4   1.74630356\n",
       "Item5   1.75190016\n",
       "Item6   0.05314845\n",
       "Item7   3.90958580\n",
       "Item8  -0.48316768\n",
       "Item9   0.51547892\n",
       "Item10 -0.77466209\n",
       "Item11  1.29555440\n"
      ]
     },
     "metadata": {},
     "output_type": "display_data"
    }
   ],
   "source": [
    "result <- mvn(data = data, mvnTest = \"mardia\")\n",
    "result"
   ]
  },
  {
   "cell_type": "code",
   "execution_count": 46,
   "metadata": {},
   "outputs": [],
   "source": [
    "res=round(cor(data, use = \"complete.obs\"),2)"
   ]
  },
  {
   "cell_type": "code",
   "execution_count": 68,
   "metadata": {},
   "outputs": [
    {
     "data": {
      "text/html": [
       "<table>\n",
       "<caption>A matrix: 11 × 11 of type dbl</caption>\n",
       "<thead>\n",
       "\t<tr><th></th><th scope=col>SELOS-1</th><th scope=col>SELOS-2</th><th scope=col>SELOS-3</th><th scope=col>SELOS-4</th><th scope=col>SELOS-5</th><th scope=col>SELOS-6</th><th scope=col>SELOS-7</th><th scope=col>SELOS-8</th><th scope=col>SELOS-9</th><th scope=col>SELOS-10</th><th scope=col>SELOS-11</th></tr>\n",
       "</thead>\n",
       "<tbody>\n",
       "\t<tr><th scope=row>SELOS-1: I find it easy to make friends and be with people</th><td> 1.00</td><td>-0.11</td><td>-0.08</td><td>-0.17</td><td>-0.06</td><td> 0.15</td><td> 0.04</td><td> 0.23</td><td> 0.17</td><td> 0.24</td><td> 0.15</td></tr>\n",
       "\t<tr><th scope=row>SELOS-2: I experience sadness and unhappiness often</th><td>-0.11</td><td> 1.00</td><td> 0.38</td><td> 0.26</td><td> 0.24</td><td>-0.17</td><td> 0.10</td><td>-0.12</td><td>-0.13</td><td>-0.19</td><td>-0.06</td></tr>\n",
       "\t<tr><th scope=row>SELOS-3: I often get angry and lose my temper</th><td>-0.08</td><td> 0.38</td><td> 1.00</td><td> 0.21</td><td> 0.21</td><td>-0.16</td><td> 0.00</td><td>-0.13</td><td>-0.04</td><td>-0.15</td><td>-0.11</td></tr>\n",
       "\t<tr><th scope=row>SELOS-4: I prefer to be alone rather than with people my age</th><td>-0.17</td><td> 0.26</td><td> 0.21</td><td> 1.00</td><td> 0.14</td><td>-0.10</td><td> 0.15</td><td>-0.05</td><td>-0.07</td><td>-0.19</td><td>-0.10</td></tr>\n",
       "\t<tr><th scope=row>SELOS-5: I find it difficult to concentrate on my studies/work at hand</th><td>-0.06</td><td> 0.24</td><td> 0.21</td><td> 0.14</td><td> 1.00</td><td>-0.18</td><td> 0.12</td><td>-0.13</td><td>-0.18</td><td>-0.17</td><td>-0.04</td></tr>\n",
       "\t<tr><th scope=row>SELOS-6: I think before I do things</th><td> 0.15</td><td>-0.17</td><td>-0.16</td><td>-0.10</td><td>-0.18</td><td> 1.00</td><td> 0.06</td><td> 0.42</td><td> 0.30</td><td> 0.36</td><td> 0.24</td></tr>\n",
       "\t<tr><th scope=row>SELOS-7: Others around me bully me</th><td> 0.04</td><td> 0.10</td><td> 0.00</td><td> 0.15</td><td> 0.12</td><td> 0.06</td><td> 1.00</td><td> 0.03</td><td>-0.01</td><td> 0.03</td><td> 0.17</td></tr>\n",
       "\t<tr><th scope=row>SELOS-8: I pay attention to the feelings of others</th><td> 0.23</td><td>-0.12</td><td>-0.13</td><td>-0.05</td><td>-0.13</td><td> 0.42</td><td> 0.03</td><td> 1.00</td><td> 0.36</td><td> 0.56</td><td> 0.25</td></tr>\n",
       "\t<tr><th scope=row>SELOS-9: I talk easily with teachers</th><td> 0.17</td><td>-0.13</td><td>-0.04</td><td>-0.07</td><td>-0.18</td><td> 0.30</td><td>-0.01</td><td> 0.36</td><td> 1.00</td><td> 0.36</td><td> 0.21</td></tr>\n",
       "\t<tr><th scope=row>SELOS-10: I like to help others</th><td> 0.24</td><td>-0.19</td><td>-0.15</td><td>-0.19</td><td>-0.17</td><td> 0.36</td><td> 0.03</td><td> 0.56</td><td> 0.36</td><td> 1.00</td><td> 0.36</td></tr>\n",
       "\t<tr><th scope=row>SELOS-11: I think feelings matter in learning</th><td> 0.15</td><td>-0.06</td><td>-0.11</td><td>-0.10</td><td>-0.04</td><td> 0.24</td><td> 0.17</td><td> 0.25</td><td> 0.21</td><td> 0.36</td><td> 1.00</td></tr>\n",
       "</tbody>\n",
       "</table>\n"
      ],
      "text/latex": [
       "A matrix: 11 × 11 of type dbl\n",
       "\\begin{tabular}{r|lllllllllll}\n",
       "  & SELOS-1 & SELOS-2 & SELOS-3 & SELOS-4 & SELOS-5 & SELOS-6 & SELOS-7 & SELOS-8 & SELOS-9 & SELOS-10 & SELOS-11\\\\\n",
       "\\hline\n",
       "\tSELOS-1: I find it easy to make friends and be with people &  1.00 & -0.11 & -0.08 & -0.17 & -0.06 &  0.15 &  0.04 &  0.23 &  0.17 &  0.24 &  0.15\\\\\n",
       "\tSELOS-2: I experience sadness and unhappiness often & -0.11 &  1.00 &  0.38 &  0.26 &  0.24 & -0.17 &  0.10 & -0.12 & -0.13 & -0.19 & -0.06\\\\\n",
       "\tSELOS-3: I often get angry and lose my temper & -0.08 &  0.38 &  1.00 &  0.21 &  0.21 & -0.16 &  0.00 & -0.13 & -0.04 & -0.15 & -0.11\\\\\n",
       "\tSELOS-4: I prefer to be alone rather than with people my age & -0.17 &  0.26 &  0.21 &  1.00 &  0.14 & -0.10 &  0.15 & -0.05 & -0.07 & -0.19 & -0.10\\\\\n",
       "\tSELOS-5: I find it difficult to concentrate on my studies/work at hand & -0.06 &  0.24 &  0.21 &  0.14 &  1.00 & -0.18 &  0.12 & -0.13 & -0.18 & -0.17 & -0.04\\\\\n",
       "\tSELOS-6: I think before I do things &  0.15 & -0.17 & -0.16 & -0.10 & -0.18 &  1.00 &  0.06 &  0.42 &  0.30 &  0.36 &  0.24\\\\\n",
       "\tSELOS-7: Others around me bully me &  0.04 &  0.10 &  0.00 &  0.15 &  0.12 &  0.06 &  1.00 &  0.03 & -0.01 &  0.03 &  0.17\\\\\n",
       "\tSELOS-8: I pay attention to the feelings of others &  0.23 & -0.12 & -0.13 & -0.05 & -0.13 &  0.42 &  0.03 &  1.00 &  0.36 &  0.56 &  0.25\\\\\n",
       "\tSELOS-9: I talk easily with teachers &  0.17 & -0.13 & -0.04 & -0.07 & -0.18 &  0.30 & -0.01 &  0.36 &  1.00 &  0.36 &  0.21\\\\\n",
       "\tSELOS-10: I like to help others &  0.24 & -0.19 & -0.15 & -0.19 & -0.17 &  0.36 &  0.03 &  0.56 &  0.36 &  1.00 &  0.36\\\\\n",
       "\tSELOS-11: I think feelings matter in learning &  0.15 & -0.06 & -0.11 & -0.10 & -0.04 &  0.24 &  0.17 &  0.25 &  0.21 &  0.36 &  1.00\\\\\n",
       "\\end{tabular}\n"
      ],
      "text/markdown": [
       "\n",
       "A matrix: 11 × 11 of type dbl\n",
       "\n",
       "| <!--/--> | SELOS-1 | SELOS-2 | SELOS-3 | SELOS-4 | SELOS-5 | SELOS-6 | SELOS-7 | SELOS-8 | SELOS-9 | SELOS-10 | SELOS-11 |\n",
       "|---|---|---|---|---|---|---|---|---|---|---|---|\n",
       "| SELOS-1: I find it easy to make friends and be with people |  1.00 | -0.11 | -0.08 | -0.17 | -0.06 |  0.15 |  0.04 |  0.23 |  0.17 |  0.24 |  0.15 |\n",
       "| SELOS-2: I experience sadness and unhappiness often | -0.11 |  1.00 |  0.38 |  0.26 |  0.24 | -0.17 |  0.10 | -0.12 | -0.13 | -0.19 | -0.06 |\n",
       "| SELOS-3: I often get angry and lose my temper | -0.08 |  0.38 |  1.00 |  0.21 |  0.21 | -0.16 |  0.00 | -0.13 | -0.04 | -0.15 | -0.11 |\n",
       "| SELOS-4: I prefer to be alone rather than with people my age | -0.17 |  0.26 |  0.21 |  1.00 |  0.14 | -0.10 |  0.15 | -0.05 | -0.07 | -0.19 | -0.10 |\n",
       "| SELOS-5: I find it difficult to concentrate on my studies/work at hand | -0.06 |  0.24 |  0.21 |  0.14 |  1.00 | -0.18 |  0.12 | -0.13 | -0.18 | -0.17 | -0.04 |\n",
       "| SELOS-6: I think before I do things |  0.15 | -0.17 | -0.16 | -0.10 | -0.18 |  1.00 |  0.06 |  0.42 |  0.30 |  0.36 |  0.24 |\n",
       "| SELOS-7: Others around me bully me |  0.04 |  0.10 |  0.00 |  0.15 |  0.12 |  0.06 |  1.00 |  0.03 | -0.01 |  0.03 |  0.17 |\n",
       "| SELOS-8: I pay attention to the feelings of others |  0.23 | -0.12 | -0.13 | -0.05 | -0.13 |  0.42 |  0.03 |  1.00 |  0.36 |  0.56 |  0.25 |\n",
       "| SELOS-9: I talk easily with teachers |  0.17 | -0.13 | -0.04 | -0.07 | -0.18 |  0.30 | -0.01 |  0.36 |  1.00 |  0.36 |  0.21 |\n",
       "| SELOS-10: I like to help others |  0.24 | -0.19 | -0.15 | -0.19 | -0.17 |  0.36 |  0.03 |  0.56 |  0.36 |  1.00 |  0.36 |\n",
       "| SELOS-11: I think feelings matter in learning |  0.15 | -0.06 | -0.11 | -0.10 | -0.04 |  0.24 |  0.17 |  0.25 |  0.21 |  0.36 |  1.00 |\n",
       "\n"
      ],
      "text/plain": [
       "                                                                       SELOS-1\n",
       "SELOS-1: I find it easy to make friends and be with people              1.00  \n",
       "SELOS-2: I experience sadness and unhappiness often                    -0.11  \n",
       "SELOS-3: I often get angry and lose my temper                          -0.08  \n",
       "SELOS-4: I prefer to be alone rather than with people my age           -0.17  \n",
       "SELOS-5: I find it difficult to concentrate on my studies/work at hand -0.06  \n",
       "SELOS-6: I think before I do things                                     0.15  \n",
       "SELOS-7: Others around me bully me                                      0.04  \n",
       "SELOS-8: I pay attention to the feelings of others                      0.23  \n",
       "SELOS-9: I talk easily with teachers                                    0.17  \n",
       "SELOS-10: I like to help others                                         0.24  \n",
       "SELOS-11: I think feelings matter in learning                           0.15  \n",
       "                                                                       SELOS-2\n",
       "SELOS-1: I find it easy to make friends and be with people             -0.11  \n",
       "SELOS-2: I experience sadness and unhappiness often                     1.00  \n",
       "SELOS-3: I often get angry and lose my temper                           0.38  \n",
       "SELOS-4: I prefer to be alone rather than with people my age            0.26  \n",
       "SELOS-5: I find it difficult to concentrate on my studies/work at hand  0.24  \n",
       "SELOS-6: I think before I do things                                    -0.17  \n",
       "SELOS-7: Others around me bully me                                      0.10  \n",
       "SELOS-8: I pay attention to the feelings of others                     -0.12  \n",
       "SELOS-9: I talk easily with teachers                                   -0.13  \n",
       "SELOS-10: I like to help others                                        -0.19  \n",
       "SELOS-11: I think feelings matter in learning                          -0.06  \n",
       "                                                                       SELOS-3\n",
       "SELOS-1: I find it easy to make friends and be with people             -0.08  \n",
       "SELOS-2: I experience sadness and unhappiness often                     0.38  \n",
       "SELOS-3: I often get angry and lose my temper                           1.00  \n",
       "SELOS-4: I prefer to be alone rather than with people my age            0.21  \n",
       "SELOS-5: I find it difficult to concentrate on my studies/work at hand  0.21  \n",
       "SELOS-6: I think before I do things                                    -0.16  \n",
       "SELOS-7: Others around me bully me                                      0.00  \n",
       "SELOS-8: I pay attention to the feelings of others                     -0.13  \n",
       "SELOS-9: I talk easily with teachers                                   -0.04  \n",
       "SELOS-10: I like to help others                                        -0.15  \n",
       "SELOS-11: I think feelings matter in learning                          -0.11  \n",
       "                                                                       SELOS-4\n",
       "SELOS-1: I find it easy to make friends and be with people             -0.17  \n",
       "SELOS-2: I experience sadness and unhappiness often                     0.26  \n",
       "SELOS-3: I often get angry and lose my temper                           0.21  \n",
       "SELOS-4: I prefer to be alone rather than with people my age            1.00  \n",
       "SELOS-5: I find it difficult to concentrate on my studies/work at hand  0.14  \n",
       "SELOS-6: I think before I do things                                    -0.10  \n",
       "SELOS-7: Others around me bully me                                      0.15  \n",
       "SELOS-8: I pay attention to the feelings of others                     -0.05  \n",
       "SELOS-9: I talk easily with teachers                                   -0.07  \n",
       "SELOS-10: I like to help others                                        -0.19  \n",
       "SELOS-11: I think feelings matter in learning                          -0.10  \n",
       "                                                                       SELOS-5\n",
       "SELOS-1: I find it easy to make friends and be with people             -0.06  \n",
       "SELOS-2: I experience sadness and unhappiness often                     0.24  \n",
       "SELOS-3: I often get angry and lose my temper                           0.21  \n",
       "SELOS-4: I prefer to be alone rather than with people my age            0.14  \n",
       "SELOS-5: I find it difficult to concentrate on my studies/work at hand  1.00  \n",
       "SELOS-6: I think before I do things                                    -0.18  \n",
       "SELOS-7: Others around me bully me                                      0.12  \n",
       "SELOS-8: I pay attention to the feelings of others                     -0.13  \n",
       "SELOS-9: I talk easily with teachers                                   -0.18  \n",
       "SELOS-10: I like to help others                                        -0.17  \n",
       "SELOS-11: I think feelings matter in learning                          -0.04  \n",
       "                                                                       SELOS-6\n",
       "SELOS-1: I find it easy to make friends and be with people              0.15  \n",
       "SELOS-2: I experience sadness and unhappiness often                    -0.17  \n",
       "SELOS-3: I often get angry and lose my temper                          -0.16  \n",
       "SELOS-4: I prefer to be alone rather than with people my age           -0.10  \n",
       "SELOS-5: I find it difficult to concentrate on my studies/work at hand -0.18  \n",
       "SELOS-6: I think before I do things                                     1.00  \n",
       "SELOS-7: Others around me bully me                                      0.06  \n",
       "SELOS-8: I pay attention to the feelings of others                      0.42  \n",
       "SELOS-9: I talk easily with teachers                                    0.30  \n",
       "SELOS-10: I like to help others                                         0.36  \n",
       "SELOS-11: I think feelings matter in learning                           0.24  \n",
       "                                                                       SELOS-7\n",
       "SELOS-1: I find it easy to make friends and be with people              0.04  \n",
       "SELOS-2: I experience sadness and unhappiness often                     0.10  \n",
       "SELOS-3: I often get angry and lose my temper                           0.00  \n",
       "SELOS-4: I prefer to be alone rather than with people my age            0.15  \n",
       "SELOS-5: I find it difficult to concentrate on my studies/work at hand  0.12  \n",
       "SELOS-6: I think before I do things                                     0.06  \n",
       "SELOS-7: Others around me bully me                                      1.00  \n",
       "SELOS-8: I pay attention to the feelings of others                      0.03  \n",
       "SELOS-9: I talk easily with teachers                                   -0.01  \n",
       "SELOS-10: I like to help others                                         0.03  \n",
       "SELOS-11: I think feelings matter in learning                           0.17  \n",
       "                                                                       SELOS-8\n",
       "SELOS-1: I find it easy to make friends and be with people              0.23  \n",
       "SELOS-2: I experience sadness and unhappiness often                    -0.12  \n",
       "SELOS-3: I often get angry and lose my temper                          -0.13  \n",
       "SELOS-4: I prefer to be alone rather than with people my age           -0.05  \n",
       "SELOS-5: I find it difficult to concentrate on my studies/work at hand -0.13  \n",
       "SELOS-6: I think before I do things                                     0.42  \n",
       "SELOS-7: Others around me bully me                                      0.03  \n",
       "SELOS-8: I pay attention to the feelings of others                      1.00  \n",
       "SELOS-9: I talk easily with teachers                                    0.36  \n",
       "SELOS-10: I like to help others                                         0.56  \n",
       "SELOS-11: I think feelings matter in learning                           0.25  \n",
       "                                                                       SELOS-9\n",
       "SELOS-1: I find it easy to make friends and be with people              0.17  \n",
       "SELOS-2: I experience sadness and unhappiness often                    -0.13  \n",
       "SELOS-3: I often get angry and lose my temper                          -0.04  \n",
       "SELOS-4: I prefer to be alone rather than with people my age           -0.07  \n",
       "SELOS-5: I find it difficult to concentrate on my studies/work at hand -0.18  \n",
       "SELOS-6: I think before I do things                                     0.30  \n",
       "SELOS-7: Others around me bully me                                     -0.01  \n",
       "SELOS-8: I pay attention to the feelings of others                      0.36  \n",
       "SELOS-9: I talk easily with teachers                                    1.00  \n",
       "SELOS-10: I like to help others                                         0.36  \n",
       "SELOS-11: I think feelings matter in learning                           0.21  \n",
       "                                                                       SELOS-10\n",
       "SELOS-1: I find it easy to make friends and be with people              0.24   \n",
       "SELOS-2: I experience sadness and unhappiness often                    -0.19   \n",
       "SELOS-3: I often get angry and lose my temper                          -0.15   \n",
       "SELOS-4: I prefer to be alone rather than with people my age           -0.19   \n",
       "SELOS-5: I find it difficult to concentrate on my studies/work at hand -0.17   \n",
       "SELOS-6: I think before I do things                                     0.36   \n",
       "SELOS-7: Others around me bully me                                      0.03   \n",
       "SELOS-8: I pay attention to the feelings of others                      0.56   \n",
       "SELOS-9: I talk easily with teachers                                    0.36   \n",
       "SELOS-10: I like to help others                                         1.00   \n",
       "SELOS-11: I think feelings matter in learning                           0.36   \n",
       "                                                                       SELOS-11\n",
       "SELOS-1: I find it easy to make friends and be with people              0.15   \n",
       "SELOS-2: I experience sadness and unhappiness often                    -0.06   \n",
       "SELOS-3: I often get angry and lose my temper                          -0.11   \n",
       "SELOS-4: I prefer to be alone rather than with people my age           -0.10   \n",
       "SELOS-5: I find it difficult to concentrate on my studies/work at hand -0.04   \n",
       "SELOS-6: I think before I do things                                     0.24   \n",
       "SELOS-7: Others around me bully me                                      0.17   \n",
       "SELOS-8: I pay attention to the feelings of others                      0.25   \n",
       "SELOS-9: I talk easily with teachers                                    0.21   \n",
       "SELOS-10: I like to help others                                         0.36   \n",
       "SELOS-11: I think feelings matter in learning                           1.00   "
      ]
     },
     "metadata": {},
     "output_type": "display_data"
    }
   ],
   "source": [
    "res"
   ]
  },
  {
   "cell_type": "code",
   "execution_count": 69,
   "metadata": {},
   "outputs": [],
   "source": [
    "res[res==1.00]=0.00"
   ]
  },
  {
   "cell_type": "code",
   "execution_count": 70,
   "metadata": {},
   "outputs": [
    {
     "data": {
      "text/html": [
       "<table>\n",
       "<caption>A matrix: 11 × 11 of type dbl</caption>\n",
       "<thead>\n",
       "\t<tr><th></th><th scope=col>SELOS-1</th><th scope=col>SELOS-2</th><th scope=col>SELOS-3</th><th scope=col>SELOS-4</th><th scope=col>SELOS-5</th><th scope=col>SELOS-6</th><th scope=col>SELOS-7</th><th scope=col>SELOS-8</th><th scope=col>SELOS-9</th><th scope=col>SELOS-10</th><th scope=col>SELOS-11</th></tr>\n",
       "</thead>\n",
       "<tbody>\n",
       "\t<tr><th scope=row>SELOS-1: I find it easy to make friends and be with people</th><td> 0.00</td><td>-0.11</td><td>-0.08</td><td>-0.17</td><td>-0.06</td><td> 0.15</td><td> 0.04</td><td> 0.23</td><td> 0.17</td><td> 0.24</td><td> 0.15</td></tr>\n",
       "\t<tr><th scope=row>SELOS-2: I experience sadness and unhappiness often</th><td>-0.11</td><td> 0.00</td><td> 0.38</td><td> 0.26</td><td> 0.24</td><td>-0.17</td><td> 0.10</td><td>-0.12</td><td>-0.13</td><td>-0.19</td><td>-0.06</td></tr>\n",
       "\t<tr><th scope=row>SELOS-3: I often get angry and lose my temper</th><td>-0.08</td><td> 0.38</td><td> 0.00</td><td> 0.21</td><td> 0.21</td><td>-0.16</td><td> 0.00</td><td>-0.13</td><td>-0.04</td><td>-0.15</td><td>-0.11</td></tr>\n",
       "\t<tr><th scope=row>SELOS-4: I prefer to be alone rather than with people my age</th><td>-0.17</td><td> 0.26</td><td> 0.21</td><td> 0.00</td><td> 0.14</td><td>-0.10</td><td> 0.15</td><td>-0.05</td><td>-0.07</td><td>-0.19</td><td>-0.10</td></tr>\n",
       "\t<tr><th scope=row>SELOS-5: I find it difficult to concentrate on my studies/work at hand</th><td>-0.06</td><td> 0.24</td><td> 0.21</td><td> 0.14</td><td> 0.00</td><td>-0.18</td><td> 0.12</td><td>-0.13</td><td>-0.18</td><td>-0.17</td><td>-0.04</td></tr>\n",
       "\t<tr><th scope=row>SELOS-6: I think before I do things</th><td> 0.15</td><td>-0.17</td><td>-0.16</td><td>-0.10</td><td>-0.18</td><td> 0.00</td><td> 0.06</td><td> 0.42</td><td> 0.30</td><td> 0.36</td><td> 0.24</td></tr>\n",
       "\t<tr><th scope=row>SELOS-7: Others around me bully me</th><td> 0.04</td><td> 0.10</td><td> 0.00</td><td> 0.15</td><td> 0.12</td><td> 0.06</td><td> 0.00</td><td> 0.03</td><td>-0.01</td><td> 0.03</td><td> 0.17</td></tr>\n",
       "\t<tr><th scope=row>SELOS-8: I pay attention to the feelings of others</th><td> 0.23</td><td>-0.12</td><td>-0.13</td><td>-0.05</td><td>-0.13</td><td> 0.42</td><td> 0.03</td><td> 0.00</td><td> 0.36</td><td> 0.56</td><td> 0.25</td></tr>\n",
       "\t<tr><th scope=row>SELOS-9: I talk easily with teachers</th><td> 0.17</td><td>-0.13</td><td>-0.04</td><td>-0.07</td><td>-0.18</td><td> 0.30</td><td>-0.01</td><td> 0.36</td><td> 0.00</td><td> 0.36</td><td> 0.21</td></tr>\n",
       "\t<tr><th scope=row>SELOS-10: I like to help others</th><td> 0.24</td><td>-0.19</td><td>-0.15</td><td>-0.19</td><td>-0.17</td><td> 0.36</td><td> 0.03</td><td> 0.56</td><td> 0.36</td><td> 0.00</td><td> 0.36</td></tr>\n",
       "\t<tr><th scope=row>SELOS-11: I think feelings matter in learning</th><td> 0.15</td><td>-0.06</td><td>-0.11</td><td>-0.10</td><td>-0.04</td><td> 0.24</td><td> 0.17</td><td> 0.25</td><td> 0.21</td><td> 0.36</td><td> 0.00</td></tr>\n",
       "</tbody>\n",
       "</table>\n"
      ],
      "text/latex": [
       "A matrix: 11 × 11 of type dbl\n",
       "\\begin{tabular}{r|lllllllllll}\n",
       "  & SELOS-1 & SELOS-2 & SELOS-3 & SELOS-4 & SELOS-5 & SELOS-6 & SELOS-7 & SELOS-8 & SELOS-9 & SELOS-10 & SELOS-11\\\\\n",
       "\\hline\n",
       "\tSELOS-1: I find it easy to make friends and be with people &  0.00 & -0.11 & -0.08 & -0.17 & -0.06 &  0.15 &  0.04 &  0.23 &  0.17 &  0.24 &  0.15\\\\\n",
       "\tSELOS-2: I experience sadness and unhappiness often & -0.11 &  0.00 &  0.38 &  0.26 &  0.24 & -0.17 &  0.10 & -0.12 & -0.13 & -0.19 & -0.06\\\\\n",
       "\tSELOS-3: I often get angry and lose my temper & -0.08 &  0.38 &  0.00 &  0.21 &  0.21 & -0.16 &  0.00 & -0.13 & -0.04 & -0.15 & -0.11\\\\\n",
       "\tSELOS-4: I prefer to be alone rather than with people my age & -0.17 &  0.26 &  0.21 &  0.00 &  0.14 & -0.10 &  0.15 & -0.05 & -0.07 & -0.19 & -0.10\\\\\n",
       "\tSELOS-5: I find it difficult to concentrate on my studies/work at hand & -0.06 &  0.24 &  0.21 &  0.14 &  0.00 & -0.18 &  0.12 & -0.13 & -0.18 & -0.17 & -0.04\\\\\n",
       "\tSELOS-6: I think before I do things &  0.15 & -0.17 & -0.16 & -0.10 & -0.18 &  0.00 &  0.06 &  0.42 &  0.30 &  0.36 &  0.24\\\\\n",
       "\tSELOS-7: Others around me bully me &  0.04 &  0.10 &  0.00 &  0.15 &  0.12 &  0.06 &  0.00 &  0.03 & -0.01 &  0.03 &  0.17\\\\\n",
       "\tSELOS-8: I pay attention to the feelings of others &  0.23 & -0.12 & -0.13 & -0.05 & -0.13 &  0.42 &  0.03 &  0.00 &  0.36 &  0.56 &  0.25\\\\\n",
       "\tSELOS-9: I talk easily with teachers &  0.17 & -0.13 & -0.04 & -0.07 & -0.18 &  0.30 & -0.01 &  0.36 &  0.00 &  0.36 &  0.21\\\\\n",
       "\tSELOS-10: I like to help others &  0.24 & -0.19 & -0.15 & -0.19 & -0.17 &  0.36 &  0.03 &  0.56 &  0.36 &  0.00 &  0.36\\\\\n",
       "\tSELOS-11: I think feelings matter in learning &  0.15 & -0.06 & -0.11 & -0.10 & -0.04 &  0.24 &  0.17 &  0.25 &  0.21 &  0.36 &  0.00\\\\\n",
       "\\end{tabular}\n"
      ],
      "text/markdown": [
       "\n",
       "A matrix: 11 × 11 of type dbl\n",
       "\n",
       "| <!--/--> | SELOS-1 | SELOS-2 | SELOS-3 | SELOS-4 | SELOS-5 | SELOS-6 | SELOS-7 | SELOS-8 | SELOS-9 | SELOS-10 | SELOS-11 |\n",
       "|---|---|---|---|---|---|---|---|---|---|---|---|\n",
       "| SELOS-1: I find it easy to make friends and be with people |  0.00 | -0.11 | -0.08 | -0.17 | -0.06 |  0.15 |  0.04 |  0.23 |  0.17 |  0.24 |  0.15 |\n",
       "| SELOS-2: I experience sadness and unhappiness often | -0.11 |  0.00 |  0.38 |  0.26 |  0.24 | -0.17 |  0.10 | -0.12 | -0.13 | -0.19 | -0.06 |\n",
       "| SELOS-3: I often get angry and lose my temper | -0.08 |  0.38 |  0.00 |  0.21 |  0.21 | -0.16 |  0.00 | -0.13 | -0.04 | -0.15 | -0.11 |\n",
       "| SELOS-4: I prefer to be alone rather than with people my age | -0.17 |  0.26 |  0.21 |  0.00 |  0.14 | -0.10 |  0.15 | -0.05 | -0.07 | -0.19 | -0.10 |\n",
       "| SELOS-5: I find it difficult to concentrate on my studies/work at hand | -0.06 |  0.24 |  0.21 |  0.14 |  0.00 | -0.18 |  0.12 | -0.13 | -0.18 | -0.17 | -0.04 |\n",
       "| SELOS-6: I think before I do things |  0.15 | -0.17 | -0.16 | -0.10 | -0.18 |  0.00 |  0.06 |  0.42 |  0.30 |  0.36 |  0.24 |\n",
       "| SELOS-7: Others around me bully me |  0.04 |  0.10 |  0.00 |  0.15 |  0.12 |  0.06 |  0.00 |  0.03 | -0.01 |  0.03 |  0.17 |\n",
       "| SELOS-8: I pay attention to the feelings of others |  0.23 | -0.12 | -0.13 | -0.05 | -0.13 |  0.42 |  0.03 |  0.00 |  0.36 |  0.56 |  0.25 |\n",
       "| SELOS-9: I talk easily with teachers |  0.17 | -0.13 | -0.04 | -0.07 | -0.18 |  0.30 | -0.01 |  0.36 |  0.00 |  0.36 |  0.21 |\n",
       "| SELOS-10: I like to help others |  0.24 | -0.19 | -0.15 | -0.19 | -0.17 |  0.36 |  0.03 |  0.56 |  0.36 |  0.00 |  0.36 |\n",
       "| SELOS-11: I think feelings matter in learning |  0.15 | -0.06 | -0.11 | -0.10 | -0.04 |  0.24 |  0.17 |  0.25 |  0.21 |  0.36 |  0.00 |\n",
       "\n"
      ],
      "text/plain": [
       "                                                                       SELOS-1\n",
       "SELOS-1: I find it easy to make friends and be with people              0.00  \n",
       "SELOS-2: I experience sadness and unhappiness often                    -0.11  \n",
       "SELOS-3: I often get angry and lose my temper                          -0.08  \n",
       "SELOS-4: I prefer to be alone rather than with people my age           -0.17  \n",
       "SELOS-5: I find it difficult to concentrate on my studies/work at hand -0.06  \n",
       "SELOS-6: I think before I do things                                     0.15  \n",
       "SELOS-7: Others around me bully me                                      0.04  \n",
       "SELOS-8: I pay attention to the feelings of others                      0.23  \n",
       "SELOS-9: I talk easily with teachers                                    0.17  \n",
       "SELOS-10: I like to help others                                         0.24  \n",
       "SELOS-11: I think feelings matter in learning                           0.15  \n",
       "                                                                       SELOS-2\n",
       "SELOS-1: I find it easy to make friends and be with people             -0.11  \n",
       "SELOS-2: I experience sadness and unhappiness often                     0.00  \n",
       "SELOS-3: I often get angry and lose my temper                           0.38  \n",
       "SELOS-4: I prefer to be alone rather than with people my age            0.26  \n",
       "SELOS-5: I find it difficult to concentrate on my studies/work at hand  0.24  \n",
       "SELOS-6: I think before I do things                                    -0.17  \n",
       "SELOS-7: Others around me bully me                                      0.10  \n",
       "SELOS-8: I pay attention to the feelings of others                     -0.12  \n",
       "SELOS-9: I talk easily with teachers                                   -0.13  \n",
       "SELOS-10: I like to help others                                        -0.19  \n",
       "SELOS-11: I think feelings matter in learning                          -0.06  \n",
       "                                                                       SELOS-3\n",
       "SELOS-1: I find it easy to make friends and be with people             -0.08  \n",
       "SELOS-2: I experience sadness and unhappiness often                     0.38  \n",
       "SELOS-3: I often get angry and lose my temper                           0.00  \n",
       "SELOS-4: I prefer to be alone rather than with people my age            0.21  \n",
       "SELOS-5: I find it difficult to concentrate on my studies/work at hand  0.21  \n",
       "SELOS-6: I think before I do things                                    -0.16  \n",
       "SELOS-7: Others around me bully me                                      0.00  \n",
       "SELOS-8: I pay attention to the feelings of others                     -0.13  \n",
       "SELOS-9: I talk easily with teachers                                   -0.04  \n",
       "SELOS-10: I like to help others                                        -0.15  \n",
       "SELOS-11: I think feelings matter in learning                          -0.11  \n",
       "                                                                       SELOS-4\n",
       "SELOS-1: I find it easy to make friends and be with people             -0.17  \n",
       "SELOS-2: I experience sadness and unhappiness often                     0.26  \n",
       "SELOS-3: I often get angry and lose my temper                           0.21  \n",
       "SELOS-4: I prefer to be alone rather than with people my age            0.00  \n",
       "SELOS-5: I find it difficult to concentrate on my studies/work at hand  0.14  \n",
       "SELOS-6: I think before I do things                                    -0.10  \n",
       "SELOS-7: Others around me bully me                                      0.15  \n",
       "SELOS-8: I pay attention to the feelings of others                     -0.05  \n",
       "SELOS-9: I talk easily with teachers                                   -0.07  \n",
       "SELOS-10: I like to help others                                        -0.19  \n",
       "SELOS-11: I think feelings matter in learning                          -0.10  \n",
       "                                                                       SELOS-5\n",
       "SELOS-1: I find it easy to make friends and be with people             -0.06  \n",
       "SELOS-2: I experience sadness and unhappiness often                     0.24  \n",
       "SELOS-3: I often get angry and lose my temper                           0.21  \n",
       "SELOS-4: I prefer to be alone rather than with people my age            0.14  \n",
       "SELOS-5: I find it difficult to concentrate on my studies/work at hand  0.00  \n",
       "SELOS-6: I think before I do things                                    -0.18  \n",
       "SELOS-7: Others around me bully me                                      0.12  \n",
       "SELOS-8: I pay attention to the feelings of others                     -0.13  \n",
       "SELOS-9: I talk easily with teachers                                   -0.18  \n",
       "SELOS-10: I like to help others                                        -0.17  \n",
       "SELOS-11: I think feelings matter in learning                          -0.04  \n",
       "                                                                       SELOS-6\n",
       "SELOS-1: I find it easy to make friends and be with people              0.15  \n",
       "SELOS-2: I experience sadness and unhappiness often                    -0.17  \n",
       "SELOS-3: I often get angry and lose my temper                          -0.16  \n",
       "SELOS-4: I prefer to be alone rather than with people my age           -0.10  \n",
       "SELOS-5: I find it difficult to concentrate on my studies/work at hand -0.18  \n",
       "SELOS-6: I think before I do things                                     0.00  \n",
       "SELOS-7: Others around me bully me                                      0.06  \n",
       "SELOS-8: I pay attention to the feelings of others                      0.42  \n",
       "SELOS-9: I talk easily with teachers                                    0.30  \n",
       "SELOS-10: I like to help others                                         0.36  \n",
       "SELOS-11: I think feelings matter in learning                           0.24  \n",
       "                                                                       SELOS-7\n",
       "SELOS-1: I find it easy to make friends and be with people              0.04  \n",
       "SELOS-2: I experience sadness and unhappiness often                     0.10  \n",
       "SELOS-3: I often get angry and lose my temper                           0.00  \n",
       "SELOS-4: I prefer to be alone rather than with people my age            0.15  \n",
       "SELOS-5: I find it difficult to concentrate on my studies/work at hand  0.12  \n",
       "SELOS-6: I think before I do things                                     0.06  \n",
       "SELOS-7: Others around me bully me                                      0.00  \n",
       "SELOS-8: I pay attention to the feelings of others                      0.03  \n",
       "SELOS-9: I talk easily with teachers                                   -0.01  \n",
       "SELOS-10: I like to help others                                         0.03  \n",
       "SELOS-11: I think feelings matter in learning                           0.17  \n",
       "                                                                       SELOS-8\n",
       "SELOS-1: I find it easy to make friends and be with people              0.23  \n",
       "SELOS-2: I experience sadness and unhappiness often                    -0.12  \n",
       "SELOS-3: I often get angry and lose my temper                          -0.13  \n",
       "SELOS-4: I prefer to be alone rather than with people my age           -0.05  \n",
       "SELOS-5: I find it difficult to concentrate on my studies/work at hand -0.13  \n",
       "SELOS-6: I think before I do things                                     0.42  \n",
       "SELOS-7: Others around me bully me                                      0.03  \n",
       "SELOS-8: I pay attention to the feelings of others                      0.00  \n",
       "SELOS-9: I talk easily with teachers                                    0.36  \n",
       "SELOS-10: I like to help others                                         0.56  \n",
       "SELOS-11: I think feelings matter in learning                           0.25  \n",
       "                                                                       SELOS-9\n",
       "SELOS-1: I find it easy to make friends and be with people              0.17  \n",
       "SELOS-2: I experience sadness and unhappiness often                    -0.13  \n",
       "SELOS-3: I often get angry and lose my temper                          -0.04  \n",
       "SELOS-4: I prefer to be alone rather than with people my age           -0.07  \n",
       "SELOS-5: I find it difficult to concentrate on my studies/work at hand -0.18  \n",
       "SELOS-6: I think before I do things                                     0.30  \n",
       "SELOS-7: Others around me bully me                                     -0.01  \n",
       "SELOS-8: I pay attention to the feelings of others                      0.36  \n",
       "SELOS-9: I talk easily with teachers                                    0.00  \n",
       "SELOS-10: I like to help others                                         0.36  \n",
       "SELOS-11: I think feelings matter in learning                           0.21  \n",
       "                                                                       SELOS-10\n",
       "SELOS-1: I find it easy to make friends and be with people              0.24   \n",
       "SELOS-2: I experience sadness and unhappiness often                    -0.19   \n",
       "SELOS-3: I often get angry and lose my temper                          -0.15   \n",
       "SELOS-4: I prefer to be alone rather than with people my age           -0.19   \n",
       "SELOS-5: I find it difficult to concentrate on my studies/work at hand -0.17   \n",
       "SELOS-6: I think before I do things                                     0.36   \n",
       "SELOS-7: Others around me bully me                                      0.03   \n",
       "SELOS-8: I pay attention to the feelings of others                      0.56   \n",
       "SELOS-9: I talk easily with teachers                                    0.36   \n",
       "SELOS-10: I like to help others                                         0.00   \n",
       "SELOS-11: I think feelings matter in learning                           0.36   \n",
       "                                                                       SELOS-11\n",
       "SELOS-1: I find it easy to make friends and be with people              0.15   \n",
       "SELOS-2: I experience sadness and unhappiness often                    -0.06   \n",
       "SELOS-3: I often get angry and lose my temper                          -0.11   \n",
       "SELOS-4: I prefer to be alone rather than with people my age           -0.10   \n",
       "SELOS-5: I find it difficult to concentrate on my studies/work at hand -0.04   \n",
       "SELOS-6: I think before I do things                                     0.24   \n",
       "SELOS-7: Others around me bully me                                      0.17   \n",
       "SELOS-8: I pay attention to the feelings of others                      0.25   \n",
       "SELOS-9: I talk easily with teachers                                    0.21   \n",
       "SELOS-10: I like to help others                                         0.36   \n",
       "SELOS-11: I think feelings matter in learning                           0.00   "
      ]
     },
     "metadata": {},
     "output_type": "display_data"
    }
   ],
   "source": [
    "res"
   ]
  },
  {
   "cell_type": "code",
   "execution_count": 53,
   "metadata": {},
   "outputs": [],
   "source": [
    "res=data"
   ]
  },
  {
   "cell_type": "code",
   "execution_count": 54,
   "metadata": {},
   "outputs": [],
   "source": [
    "write.csv(res,\"corr.csv\")"
   ]
  },
  {
   "cell_type": "code",
   "execution_count": 71,
   "metadata": {},
   "outputs": [],
   "source": [
    "rownames(res) <- c(\"SELOS-1: I find it easy to make friends and be with people\", \"SELOS-2: I experience sadness and unhappiness often\", \"SELOS-3: I often get angry and lose my temper\", \"SELOS-4: I prefer to be alone rather than with people my age\", \"SELOS-5: I find it difficult to concentrate on my studies/work at hand\",\"SELOS-6: I think before I do things\",\"SELOS-7: Others around me bully me\",\"SELOS-8: I pay attention to the feelings of others\",\"SELOS-9: I talk easily with teachers\",\"SELOS-10: I like to help others\",\"SELOS-11: I think feelings matter in learning\")\n",
    "colnames(res) <- c(\"SELOS-1\", \"SELOS-2\", \"SELOS-3\", \"SELOS-4\", \"SELOS-5\",\"SELOS-6\",\"SELOS-7\",\"SELOS-8\",\"SELOS-9\",\"SELOS-10\",\"SELOS-11\")"
   ]
  },
  {
   "cell_type": "code",
   "execution_count": 72,
   "metadata": {},
   "outputs": [
    {
     "data": {
      "text/html": [
       "<table>\n",
       "<caption>A matrix: 11 × 11 of type dbl</caption>\n",
       "<thead>\n",
       "\t<tr><th></th><th scope=col>SELOS-1</th><th scope=col>SELOS-2</th><th scope=col>SELOS-3</th><th scope=col>SELOS-4</th><th scope=col>SELOS-5</th><th scope=col>SELOS-6</th><th scope=col>SELOS-7</th><th scope=col>SELOS-8</th><th scope=col>SELOS-9</th><th scope=col>SELOS-10</th><th scope=col>SELOS-11</th></tr>\n",
       "</thead>\n",
       "<tbody>\n",
       "\t<tr><th scope=row>SELOS-1: I find it easy to make friends and be with people</th><td> 0.00</td><td>-0.11</td><td>-0.08</td><td>-0.17</td><td>-0.06</td><td> 0.15</td><td> 0.04</td><td> 0.23</td><td> 0.17</td><td> 0.24</td><td> 0.15</td></tr>\n",
       "\t<tr><th scope=row>SELOS-2: I experience sadness and unhappiness often</th><td>-0.11</td><td> 0.00</td><td> 0.38</td><td> 0.26</td><td> 0.24</td><td>-0.17</td><td> 0.10</td><td>-0.12</td><td>-0.13</td><td>-0.19</td><td>-0.06</td></tr>\n",
       "\t<tr><th scope=row>SELOS-3: I often get angry and lose my temper</th><td>-0.08</td><td> 0.38</td><td> 0.00</td><td> 0.21</td><td> 0.21</td><td>-0.16</td><td> 0.00</td><td>-0.13</td><td>-0.04</td><td>-0.15</td><td>-0.11</td></tr>\n",
       "\t<tr><th scope=row>SELOS-4: I prefer to be alone rather than with people my age</th><td>-0.17</td><td> 0.26</td><td> 0.21</td><td> 0.00</td><td> 0.14</td><td>-0.10</td><td> 0.15</td><td>-0.05</td><td>-0.07</td><td>-0.19</td><td>-0.10</td></tr>\n",
       "\t<tr><th scope=row>SELOS-5: I find it difficult to concentrate on my studies/work at hand</th><td>-0.06</td><td> 0.24</td><td> 0.21</td><td> 0.14</td><td> 0.00</td><td>-0.18</td><td> 0.12</td><td>-0.13</td><td>-0.18</td><td>-0.17</td><td>-0.04</td></tr>\n",
       "\t<tr><th scope=row>SELOS-6: I think before I do things</th><td> 0.15</td><td>-0.17</td><td>-0.16</td><td>-0.10</td><td>-0.18</td><td> 0.00</td><td> 0.06</td><td> 0.42</td><td> 0.30</td><td> 0.36</td><td> 0.24</td></tr>\n",
       "\t<tr><th scope=row>SELOS-7: Others around me bully me</th><td> 0.04</td><td> 0.10</td><td> 0.00</td><td> 0.15</td><td> 0.12</td><td> 0.06</td><td> 0.00</td><td> 0.03</td><td>-0.01</td><td> 0.03</td><td> 0.17</td></tr>\n",
       "\t<tr><th scope=row>SELOS-8: I pay attention to the feelings of others</th><td> 0.23</td><td>-0.12</td><td>-0.13</td><td>-0.05</td><td>-0.13</td><td> 0.42</td><td> 0.03</td><td> 0.00</td><td> 0.36</td><td> 0.56</td><td> 0.25</td></tr>\n",
       "\t<tr><th scope=row>SELOS-9: I talk easily with teachers</th><td> 0.17</td><td>-0.13</td><td>-0.04</td><td>-0.07</td><td>-0.18</td><td> 0.30</td><td>-0.01</td><td> 0.36</td><td> 0.00</td><td> 0.36</td><td> 0.21</td></tr>\n",
       "\t<tr><th scope=row>SELOS-10: I like to help others</th><td> 0.24</td><td>-0.19</td><td>-0.15</td><td>-0.19</td><td>-0.17</td><td> 0.36</td><td> 0.03</td><td> 0.56</td><td> 0.36</td><td> 0.00</td><td> 0.36</td></tr>\n",
       "\t<tr><th scope=row>SELOS-11: I think feelings matter in learning</th><td> 0.15</td><td>-0.06</td><td>-0.11</td><td>-0.10</td><td>-0.04</td><td> 0.24</td><td> 0.17</td><td> 0.25</td><td> 0.21</td><td> 0.36</td><td> 0.00</td></tr>\n",
       "</tbody>\n",
       "</table>\n"
      ],
      "text/latex": [
       "A matrix: 11 × 11 of type dbl\n",
       "\\begin{tabular}{r|lllllllllll}\n",
       "  & SELOS-1 & SELOS-2 & SELOS-3 & SELOS-4 & SELOS-5 & SELOS-6 & SELOS-7 & SELOS-8 & SELOS-9 & SELOS-10 & SELOS-11\\\\\n",
       "\\hline\n",
       "\tSELOS-1: I find it easy to make friends and be with people &  0.00 & -0.11 & -0.08 & -0.17 & -0.06 &  0.15 &  0.04 &  0.23 &  0.17 &  0.24 &  0.15\\\\\n",
       "\tSELOS-2: I experience sadness and unhappiness often & -0.11 &  0.00 &  0.38 &  0.26 &  0.24 & -0.17 &  0.10 & -0.12 & -0.13 & -0.19 & -0.06\\\\\n",
       "\tSELOS-3: I often get angry and lose my temper & -0.08 &  0.38 &  0.00 &  0.21 &  0.21 & -0.16 &  0.00 & -0.13 & -0.04 & -0.15 & -0.11\\\\\n",
       "\tSELOS-4: I prefer to be alone rather than with people my age & -0.17 &  0.26 &  0.21 &  0.00 &  0.14 & -0.10 &  0.15 & -0.05 & -0.07 & -0.19 & -0.10\\\\\n",
       "\tSELOS-5: I find it difficult to concentrate on my studies/work at hand & -0.06 &  0.24 &  0.21 &  0.14 &  0.00 & -0.18 &  0.12 & -0.13 & -0.18 & -0.17 & -0.04\\\\\n",
       "\tSELOS-6: I think before I do things &  0.15 & -0.17 & -0.16 & -0.10 & -0.18 &  0.00 &  0.06 &  0.42 &  0.30 &  0.36 &  0.24\\\\\n",
       "\tSELOS-7: Others around me bully me &  0.04 &  0.10 &  0.00 &  0.15 &  0.12 &  0.06 &  0.00 &  0.03 & -0.01 &  0.03 &  0.17\\\\\n",
       "\tSELOS-8: I pay attention to the feelings of others &  0.23 & -0.12 & -0.13 & -0.05 & -0.13 &  0.42 &  0.03 &  0.00 &  0.36 &  0.56 &  0.25\\\\\n",
       "\tSELOS-9: I talk easily with teachers &  0.17 & -0.13 & -0.04 & -0.07 & -0.18 &  0.30 & -0.01 &  0.36 &  0.00 &  0.36 &  0.21\\\\\n",
       "\tSELOS-10: I like to help others &  0.24 & -0.19 & -0.15 & -0.19 & -0.17 &  0.36 &  0.03 &  0.56 &  0.36 &  0.00 &  0.36\\\\\n",
       "\tSELOS-11: I think feelings matter in learning &  0.15 & -0.06 & -0.11 & -0.10 & -0.04 &  0.24 &  0.17 &  0.25 &  0.21 &  0.36 &  0.00\\\\\n",
       "\\end{tabular}\n"
      ],
      "text/markdown": [
       "\n",
       "A matrix: 11 × 11 of type dbl\n",
       "\n",
       "| <!--/--> | SELOS-1 | SELOS-2 | SELOS-3 | SELOS-4 | SELOS-5 | SELOS-6 | SELOS-7 | SELOS-8 | SELOS-9 | SELOS-10 | SELOS-11 |\n",
       "|---|---|---|---|---|---|---|---|---|---|---|---|\n",
       "| SELOS-1: I find it easy to make friends and be with people |  0.00 | -0.11 | -0.08 | -0.17 | -0.06 |  0.15 |  0.04 |  0.23 |  0.17 |  0.24 |  0.15 |\n",
       "| SELOS-2: I experience sadness and unhappiness often | -0.11 |  0.00 |  0.38 |  0.26 |  0.24 | -0.17 |  0.10 | -0.12 | -0.13 | -0.19 | -0.06 |\n",
       "| SELOS-3: I often get angry and lose my temper | -0.08 |  0.38 |  0.00 |  0.21 |  0.21 | -0.16 |  0.00 | -0.13 | -0.04 | -0.15 | -0.11 |\n",
       "| SELOS-4: I prefer to be alone rather than with people my age | -0.17 |  0.26 |  0.21 |  0.00 |  0.14 | -0.10 |  0.15 | -0.05 | -0.07 | -0.19 | -0.10 |\n",
       "| SELOS-5: I find it difficult to concentrate on my studies/work at hand | -0.06 |  0.24 |  0.21 |  0.14 |  0.00 | -0.18 |  0.12 | -0.13 | -0.18 | -0.17 | -0.04 |\n",
       "| SELOS-6: I think before I do things |  0.15 | -0.17 | -0.16 | -0.10 | -0.18 |  0.00 |  0.06 |  0.42 |  0.30 |  0.36 |  0.24 |\n",
       "| SELOS-7: Others around me bully me |  0.04 |  0.10 |  0.00 |  0.15 |  0.12 |  0.06 |  0.00 |  0.03 | -0.01 |  0.03 |  0.17 |\n",
       "| SELOS-8: I pay attention to the feelings of others |  0.23 | -0.12 | -0.13 | -0.05 | -0.13 |  0.42 |  0.03 |  0.00 |  0.36 |  0.56 |  0.25 |\n",
       "| SELOS-9: I talk easily with teachers |  0.17 | -0.13 | -0.04 | -0.07 | -0.18 |  0.30 | -0.01 |  0.36 |  0.00 |  0.36 |  0.21 |\n",
       "| SELOS-10: I like to help others |  0.24 | -0.19 | -0.15 | -0.19 | -0.17 |  0.36 |  0.03 |  0.56 |  0.36 |  0.00 |  0.36 |\n",
       "| SELOS-11: I think feelings matter in learning |  0.15 | -0.06 | -0.11 | -0.10 | -0.04 |  0.24 |  0.17 |  0.25 |  0.21 |  0.36 |  0.00 |\n",
       "\n"
      ],
      "text/plain": [
       "                                                                       SELOS-1\n",
       "SELOS-1: I find it easy to make friends and be with people              0.00  \n",
       "SELOS-2: I experience sadness and unhappiness often                    -0.11  \n",
       "SELOS-3: I often get angry and lose my temper                          -0.08  \n",
       "SELOS-4: I prefer to be alone rather than with people my age           -0.17  \n",
       "SELOS-5: I find it difficult to concentrate on my studies/work at hand -0.06  \n",
       "SELOS-6: I think before I do things                                     0.15  \n",
       "SELOS-7: Others around me bully me                                      0.04  \n",
       "SELOS-8: I pay attention to the feelings of others                      0.23  \n",
       "SELOS-9: I talk easily with teachers                                    0.17  \n",
       "SELOS-10: I like to help others                                         0.24  \n",
       "SELOS-11: I think feelings matter in learning                           0.15  \n",
       "                                                                       SELOS-2\n",
       "SELOS-1: I find it easy to make friends and be with people             -0.11  \n",
       "SELOS-2: I experience sadness and unhappiness often                     0.00  \n",
       "SELOS-3: I often get angry and lose my temper                           0.38  \n",
       "SELOS-4: I prefer to be alone rather than with people my age            0.26  \n",
       "SELOS-5: I find it difficult to concentrate on my studies/work at hand  0.24  \n",
       "SELOS-6: I think before I do things                                    -0.17  \n",
       "SELOS-7: Others around me bully me                                      0.10  \n",
       "SELOS-8: I pay attention to the feelings of others                     -0.12  \n",
       "SELOS-9: I talk easily with teachers                                   -0.13  \n",
       "SELOS-10: I like to help others                                        -0.19  \n",
       "SELOS-11: I think feelings matter in learning                          -0.06  \n",
       "                                                                       SELOS-3\n",
       "SELOS-1: I find it easy to make friends and be with people             -0.08  \n",
       "SELOS-2: I experience sadness and unhappiness often                     0.38  \n",
       "SELOS-3: I often get angry and lose my temper                           0.00  \n",
       "SELOS-4: I prefer to be alone rather than with people my age            0.21  \n",
       "SELOS-5: I find it difficult to concentrate on my studies/work at hand  0.21  \n",
       "SELOS-6: I think before I do things                                    -0.16  \n",
       "SELOS-7: Others around me bully me                                      0.00  \n",
       "SELOS-8: I pay attention to the feelings of others                     -0.13  \n",
       "SELOS-9: I talk easily with teachers                                   -0.04  \n",
       "SELOS-10: I like to help others                                        -0.15  \n",
       "SELOS-11: I think feelings matter in learning                          -0.11  \n",
       "                                                                       SELOS-4\n",
       "SELOS-1: I find it easy to make friends and be with people             -0.17  \n",
       "SELOS-2: I experience sadness and unhappiness often                     0.26  \n",
       "SELOS-3: I often get angry and lose my temper                           0.21  \n",
       "SELOS-4: I prefer to be alone rather than with people my age            0.00  \n",
       "SELOS-5: I find it difficult to concentrate on my studies/work at hand  0.14  \n",
       "SELOS-6: I think before I do things                                    -0.10  \n",
       "SELOS-7: Others around me bully me                                      0.15  \n",
       "SELOS-8: I pay attention to the feelings of others                     -0.05  \n",
       "SELOS-9: I talk easily with teachers                                   -0.07  \n",
       "SELOS-10: I like to help others                                        -0.19  \n",
       "SELOS-11: I think feelings matter in learning                          -0.10  \n",
       "                                                                       SELOS-5\n",
       "SELOS-1: I find it easy to make friends and be with people             -0.06  \n",
       "SELOS-2: I experience sadness and unhappiness often                     0.24  \n",
       "SELOS-3: I often get angry and lose my temper                           0.21  \n",
       "SELOS-4: I prefer to be alone rather than with people my age            0.14  \n",
       "SELOS-5: I find it difficult to concentrate on my studies/work at hand  0.00  \n",
       "SELOS-6: I think before I do things                                    -0.18  \n",
       "SELOS-7: Others around me bully me                                      0.12  \n",
       "SELOS-8: I pay attention to the feelings of others                     -0.13  \n",
       "SELOS-9: I talk easily with teachers                                   -0.18  \n",
       "SELOS-10: I like to help others                                        -0.17  \n",
       "SELOS-11: I think feelings matter in learning                          -0.04  \n",
       "                                                                       SELOS-6\n",
       "SELOS-1: I find it easy to make friends and be with people              0.15  \n",
       "SELOS-2: I experience sadness and unhappiness often                    -0.17  \n",
       "SELOS-3: I often get angry and lose my temper                          -0.16  \n",
       "SELOS-4: I prefer to be alone rather than with people my age           -0.10  \n",
       "SELOS-5: I find it difficult to concentrate on my studies/work at hand -0.18  \n",
       "SELOS-6: I think before I do things                                     0.00  \n",
       "SELOS-7: Others around me bully me                                      0.06  \n",
       "SELOS-8: I pay attention to the feelings of others                      0.42  \n",
       "SELOS-9: I talk easily with teachers                                    0.30  \n",
       "SELOS-10: I like to help others                                         0.36  \n",
       "SELOS-11: I think feelings matter in learning                           0.24  \n",
       "                                                                       SELOS-7\n",
       "SELOS-1: I find it easy to make friends and be with people              0.04  \n",
       "SELOS-2: I experience sadness and unhappiness often                     0.10  \n",
       "SELOS-3: I often get angry and lose my temper                           0.00  \n",
       "SELOS-4: I prefer to be alone rather than with people my age            0.15  \n",
       "SELOS-5: I find it difficult to concentrate on my studies/work at hand  0.12  \n",
       "SELOS-6: I think before I do things                                     0.06  \n",
       "SELOS-7: Others around me bully me                                      0.00  \n",
       "SELOS-8: I pay attention to the feelings of others                      0.03  \n",
       "SELOS-9: I talk easily with teachers                                   -0.01  \n",
       "SELOS-10: I like to help others                                         0.03  \n",
       "SELOS-11: I think feelings matter in learning                           0.17  \n",
       "                                                                       SELOS-8\n",
       "SELOS-1: I find it easy to make friends and be with people              0.23  \n",
       "SELOS-2: I experience sadness and unhappiness often                    -0.12  \n",
       "SELOS-3: I often get angry and lose my temper                          -0.13  \n",
       "SELOS-4: I prefer to be alone rather than with people my age           -0.05  \n",
       "SELOS-5: I find it difficult to concentrate on my studies/work at hand -0.13  \n",
       "SELOS-6: I think before I do things                                     0.42  \n",
       "SELOS-7: Others around me bully me                                      0.03  \n",
       "SELOS-8: I pay attention to the feelings of others                      0.00  \n",
       "SELOS-9: I talk easily with teachers                                    0.36  \n",
       "SELOS-10: I like to help others                                         0.56  \n",
       "SELOS-11: I think feelings matter in learning                           0.25  \n",
       "                                                                       SELOS-9\n",
       "SELOS-1: I find it easy to make friends and be with people              0.17  \n",
       "SELOS-2: I experience sadness and unhappiness often                    -0.13  \n",
       "SELOS-3: I often get angry and lose my temper                          -0.04  \n",
       "SELOS-4: I prefer to be alone rather than with people my age           -0.07  \n",
       "SELOS-5: I find it difficult to concentrate on my studies/work at hand -0.18  \n",
       "SELOS-6: I think before I do things                                     0.30  \n",
       "SELOS-7: Others around me bully me                                     -0.01  \n",
       "SELOS-8: I pay attention to the feelings of others                      0.36  \n",
       "SELOS-9: I talk easily with teachers                                    0.00  \n",
       "SELOS-10: I like to help others                                         0.36  \n",
       "SELOS-11: I think feelings matter in learning                           0.21  \n",
       "                                                                       SELOS-10\n",
       "SELOS-1: I find it easy to make friends and be with people              0.24   \n",
       "SELOS-2: I experience sadness and unhappiness often                    -0.19   \n",
       "SELOS-3: I often get angry and lose my temper                          -0.15   \n",
       "SELOS-4: I prefer to be alone rather than with people my age           -0.19   \n",
       "SELOS-5: I find it difficult to concentrate on my studies/work at hand -0.17   \n",
       "SELOS-6: I think before I do things                                     0.36   \n",
       "SELOS-7: Others around me bully me                                      0.03   \n",
       "SELOS-8: I pay attention to the feelings of others                      0.56   \n",
       "SELOS-9: I talk easily with teachers                                    0.36   \n",
       "SELOS-10: I like to help others                                         0.00   \n",
       "SELOS-11: I think feelings matter in learning                           0.36   \n",
       "                                                                       SELOS-11\n",
       "SELOS-1: I find it easy to make friends and be with people              0.15   \n",
       "SELOS-2: I experience sadness and unhappiness often                    -0.06   \n",
       "SELOS-3: I often get angry and lose my temper                          -0.11   \n",
       "SELOS-4: I prefer to be alone rather than with people my age           -0.10   \n",
       "SELOS-5: I find it difficult to concentrate on my studies/work at hand -0.04   \n",
       "SELOS-6: I think before I do things                                     0.24   \n",
       "SELOS-7: Others around me bully me                                      0.17   \n",
       "SELOS-8: I pay attention to the feelings of others                      0.25   \n",
       "SELOS-9: I talk easily with teachers                                    0.21   \n",
       "SELOS-10: I like to help others                                         0.36   \n",
       "SELOS-11: I think feelings matter in learning                           0.00   "
      ]
     },
     "metadata": {},
     "output_type": "display_data"
    }
   ],
   "source": [
    "res"
   ]
  },
  {
   "cell_type": "code",
   "execution_count": 76,
   "metadata": {},
   "outputs": [
    {
     "data": {
      "text/html": [
       "<table>\n",
       "<caption>A matrix: 6 × 5 of type dbl</caption>\n",
       "<thead>\n",
       "\t<tr><th></th><th scope=col>Item1</th><th scope=col>Item2</th><th scope=col>Item3</th><th scope=col>Item4</th><th scope=col>Item5</th></tr>\n",
       "</thead>\n",
       "<tbody>\n",
       "\t<tr><th scope=row>Item1</th><td>0.00000000</td><td>0.09020053</td><td>0.14087927</td><td>0.0536519</td><td>0.20556730</td></tr>\n",
       "\t<tr><th scope=row>Item2</th><td>0.09020053</td><td>0.00000000</td><td>0.02204457</td><td>0.1010508</td><td>0.11154697</td></tr>\n",
       "\t<tr><th scope=row>Item3</th><td>0.14087927</td><td>0.02204457</td><td>0.00000000</td><td>0.1750516</td><td>0.16742835</td></tr>\n",
       "\t<tr><th scope=row>Item4</th><td>0.05365190</td><td>0.10105078</td><td>0.17505164</td><td>0.0000000</td><td>0.30338061</td></tr>\n",
       "\t<tr><th scope=row>Item5</th><td>0.20556730</td><td>0.11154697</td><td>0.16742835</td><td>0.3033806</td><td>0.00000000</td></tr>\n",
       "\t<tr><th scope=row>Item6</th><td>0.33730353</td><td>0.01899178</td><td>0.02881465</td><td>0.0864253</td><td>0.02706711</td></tr>\n",
       "</tbody>\n",
       "</table>\n"
      ],
      "text/latex": [
       "A matrix: 6 × 5 of type dbl\n",
       "\\begin{tabular}{r|lllll}\n",
       "  & Item1 & Item2 & Item3 & Item4 & Item5\\\\\n",
       "\\hline\n",
       "\tItem1 & 0.00000000 & 0.09020053 & 0.14087927 & 0.0536519 & 0.20556730\\\\\n",
       "\tItem2 & 0.09020053 & 0.00000000 & 0.02204457 & 0.1010508 & 0.11154697\\\\\n",
       "\tItem3 & 0.14087927 & 0.02204457 & 0.00000000 & 0.1750516 & 0.16742835\\\\\n",
       "\tItem4 & 0.05365190 & 0.10105078 & 0.17505164 & 0.0000000 & 0.30338061\\\\\n",
       "\tItem5 & 0.20556730 & 0.11154697 & 0.16742835 & 0.3033806 & 0.00000000\\\\\n",
       "\tItem6 & 0.33730353 & 0.01899178 & 0.02881465 & 0.0864253 & 0.02706711\\\\\n",
       "\\end{tabular}\n"
      ],
      "text/markdown": [
       "\n",
       "A matrix: 6 × 5 of type dbl\n",
       "\n",
       "| <!--/--> | Item1 | Item2 | Item3 | Item4 | Item5 |\n",
       "|---|---|---|---|---|---|\n",
       "| Item1 | 0.00000000 | 0.09020053 | 0.14087927 | 0.0536519 | 0.20556730 |\n",
       "| Item2 | 0.09020053 | 0.00000000 | 0.02204457 | 0.1010508 | 0.11154697 |\n",
       "| Item3 | 0.14087927 | 0.02204457 | 0.00000000 | 0.1750516 | 0.16742835 |\n",
       "| Item4 | 0.05365190 | 0.10105078 | 0.17505164 | 0.0000000 | 0.30338061 |\n",
       "| Item5 | 0.20556730 | 0.11154697 | 0.16742835 | 0.3033806 | 0.00000000 |\n",
       "| Item6 | 0.33730353 | 0.01899178 | 0.02881465 | 0.0864253 | 0.02706711 |\n",
       "\n"
      ],
      "text/plain": [
       "      Item1      Item2      Item3      Item4     Item5     \n",
       "Item1 0.00000000 0.09020053 0.14087927 0.0536519 0.20556730\n",
       "Item2 0.09020053 0.00000000 0.02204457 0.1010508 0.11154697\n",
       "Item3 0.14087927 0.02204457 0.00000000 0.1750516 0.16742835\n",
       "Item4 0.05365190 0.10105078 0.17505164 0.0000000 0.30338061\n",
       "Item5 0.20556730 0.11154697 0.16742835 0.3033806 0.00000000\n",
       "Item6 0.33730353 0.01899178 0.02881465 0.0864253 0.02706711"
      ]
     },
     "metadata": {},
     "output_type": "display_data"
    },
    {
     "data": {
      "text/html": [
       "<strong>pdf:</strong> 2"
      ],
      "text/latex": [
       "\\textbf{pdf:} 2"
      ],
      "text/markdown": [
       "**pdf:** 2"
      ],
      "text/plain": [
       "pdf \n",
       "  2 "
      ]
     },
     "metadata": {},
     "output_type": "display_data"
    }
   ],
   "source": [
    "library(corrplot)\n",
    "cor.mtest <- function(mat, ...)\n",
    "{\n",
    "  mat <- as.matrix(mat)\n",
    "  n <- ncol(mat)\n",
    "  p.mat<- matrix(NA, n, n)\n",
    "  diag(p.mat) <- 0\n",
    "  for (i in 1:(n - 1)) \n",
    "  {\n",
    "    for (j in (i + 1):n)\n",
    "    {\n",
    "      tmp <- cor.test(mat[, i], mat[, j], ...)\n",
    "      p.mat[i, j] <- p.mat[j, i] <- tmp$p.value\n",
    "    }\n",
    "  }\n",
    "  colnames(p.mat) <- rownames(p.mat) <- colnames(mat)\n",
    "  p.mat\n",
    "}\n",
    "  \n",
    "# matrix of the p-value of the correlation\n",
    "p.mat <- cor.mtest(data)\n",
    "head(p.mat[, 1:5])\n",
    "\n",
    "\n",
    "par(mfrow=c(1,2))\n",
    "\n",
    "#png(height=1000, width=1300, pointsize=15, dpi=200, file=\"overlap.png\")\n",
    "tiff(\"test.tiff\", units=\"in\", width=13, height=7, pointsize=11, res=300)\n",
    "\n",
    "\n",
    "palette=colorRampPalette(c(\"#da3a45\",\"white\",\"#468598\"))(10)\n",
    "#corrplot(res2, type = \"upper\", order = \"original\", \n",
    "         #p.mat = p.mat, sig.level = 0.05,cl.lim = c(-0.7, 0.7), is.corr = FALSE,diag=FALSE,tl.col = \"black\", tl.srt = 45, col= palette )\n",
    "corrplot(res, type = \"upper\", order = \"original\", \n",
    "         p.mat = p.mat, sig.level = 0.05,cl.lim = c(-0.3, 0.6), is.corr = FALSE,diag=TRUE,tl.col = \"black\", tl.srt = 45, col= palette )\n",
    "    \n",
    "dev.off()"
   ]
  },
  {
   "cell_type": "markdown",
   "metadata": {},
   "source": [
    "# Prerequisite Testing for EFA"
   ]
  },
  {
   "cell_type": "code",
   "execution_count": 61,
   "metadata": {},
   "outputs": [
    {
     "data": {
      "text/plain": [
       "Kaiser-Meyer-Olkin factor adequacy\n",
       "Call: KMO(r = data)\n",
       "Overall MSA =  0.76\n",
       "MSA for each item = \n",
       " Item1  Item2  Item3  Item4  Item5  Item6  Item7  Item8  Item9 Item10 Item11 \n",
       "  0.85   0.72   0.69   0.70   0.79   0.84   0.52   0.74   0.84   0.76   0.78 "
      ]
     },
     "metadata": {},
     "output_type": "display_data"
    }
   ],
   "source": [
    "KMO(data)"
   ]
  },
  {
   "cell_type": "code",
   "execution_count": 62,
   "metadata": {},
   "outputs": [
    {
     "name": "stderr",
     "output_type": "stream",
     "text": [
      "Warning message in cortest.bartlett(data):\n",
      "“n not specified, 100 used”\n"
     ]
    },
    {
     "data": {
      "text/html": [
       "<dl>\n",
       "\t<dt>$chisq</dt>\n",
       "\t\t<dd>152.258396090948</dd>\n",
       "\t<dt>$p.value</dt>\n",
       "\t\t<dd>4.57879600437745e-11</dd>\n",
       "\t<dt>$df</dt>\n",
       "\t\t<dd>55</dd>\n",
       "</dl>\n"
      ],
      "text/latex": [
       "\\begin{description}\n",
       "\\item[\\$chisq] 152.258396090948\n",
       "\\item[\\$p.value] 4.57879600437745e-11\n",
       "\\item[\\$df] 55\n",
       "\\end{description}\n"
      ],
      "text/markdown": [
       "$chisq\n",
       ":   152.258396090948\n",
       "$p.value\n",
       ":   4.57879600437745e-11\n",
       "$df\n",
       ":   55\n",
       "\n",
       "\n"
      ],
      "text/plain": [
       "$chisq\n",
       "[1] 152.2584\n",
       "\n",
       "$p.value\n",
       "[1] 4.578796e-11\n",
       "\n",
       "$df\n",
       "[1] 55\n"
      ]
     },
     "metadata": {},
     "output_type": "display_data"
    }
   ],
   "source": [
    "cortest.bartlett(data)"
   ]
  },
  {
   "cell_type": "code",
   "execution_count": 63,
   "metadata": {},
   "outputs": [
    {
     "name": "stderr",
     "output_type": "stream",
     "text": [
      "Warning message:\n",
      "“factor.pa is deprecated.  Please use the fa function with fm=pa”\n"
     ]
    },
    {
     "data": {
      "text/plain": [
       "Factor Analysis using method =  pa\n",
       "Call: factor.pa(r = data)\n",
       "Unstandardized loadings (pattern matrix) based upon covariance matrix\n",
       "         PA1      h2   u2      H2   U2\n",
       "Item1   0.33 0.11070 0.89 0.11062 0.89\n",
       "Item2  -0.34 0.11456 0.89 0.11404 0.89\n",
       "Item3  -0.30 0.09095 0.91 0.09087 0.91\n",
       "Item4  -0.26 0.06950 0.93 0.06954 0.93\n",
       "Item5  -0.30 0.08831 0.91 0.08846 0.91\n",
       "Item6   0.55 0.30619 0.69 0.30736 0.69\n",
       "Item7   0.02 0.00041 1.00 0.00041 1.00\n",
       "Item8   0.66 0.43074 0.57 0.43042 0.57\n",
       "Item9   0.49 0.23972 0.76 0.23979 0.76\n",
       "Item10  0.73 0.53215 0.47 0.53101 0.47\n",
       "Item11  0.41 0.16574 0.83 0.16645 0.83\n",
       "\n",
       "                PA1\n",
       "SS loadings    2.15\n",
       "Proportion Var 0.20\n",
       "\n",
       " Standardized loadings (pattern matrix)\n",
       "        V   PA1      h2   u2\n",
       "Item1   1  0.33 0.11062 0.89\n",
       "Item2   2 -0.34 0.11404 0.89\n",
       "Item3   3  -0.3 0.09087 0.91\n",
       "Item4   4 -0.26 0.06954 0.93\n",
       "Item5   5  -0.3 0.08846 0.91\n",
       "Item6   6  0.55 0.30736 0.69\n",
       "Item7   7  0.02 0.00041 1.00\n",
       "Item8   8  0.66 0.43042 0.57\n",
       "Item9   9  0.49 0.23979 0.76\n",
       "Item10 10  0.73 0.53101 0.47\n",
       "Item11 11  0.41 0.16645 0.83\n",
       "\n",
       "                PA1\n",
       "SS loadings    2.15\n",
       "Proportion Var 0.20\n",
       "\n",
       "Mean item complexity =  1\n",
       "Test of the hypothesis that 1 factor is sufficient.\n",
       "\n",
       "The degrees of freedom for the null model are  55  and the objective function was  1.61\n",
       "The degrees of freedom for the model are 44  and the objective function was  0.43 \n",
       "\n",
       "The root mean square of the residuals (RMSR) is  0.08 \n",
       "The df corrected root mean square of the residuals is  0.09 \n",
       "\n",
       "Fit based upon off diagonal values = 0.85\n",
       "Measures of factor score adequacy             \n",
       "                                                   PA1\n",
       "Correlation of (regression) scores with factors   0.88\n",
       "Multiple R square of scores with factors          0.77\n",
       "Minimum correlation of possible factor scores     0.54"
      ]
     },
     "metadata": {},
     "output_type": "display_data"
    }
   ],
   "source": [
    "factor.pa(data)"
   ]
  },
  {
   "cell_type": "code",
   "execution_count": 64,
   "metadata": {},
   "outputs": [
    {
     "data": {
      "text/html": [
       "<style>\n",
       ".list-inline {list-style: none; margin:0; padding: 0}\n",
       ".list-inline>li {display: inline-block}\n",
       ".list-inline>li:not(:last-child)::after {content: \"\\00b7\"; padding: 0 .5ex}\n",
       "</style>\n",
       "<ol class=list-inline><li>2.84126963800831</li><li>1.52532545248798</li><li>1.07059273403361</li><li>0.984635656450231</li><li>0.820750502886458</li><li>0.774672183940846</li><li>0.693071684494534</li><li>0.680975187502954</li><li>0.624318801070588</li><li>0.587022857684837</li><li>0.397365301439658</li></ol>\n"
      ],
      "text/latex": [
       "\\begin{enumerate*}\n",
       "\\item 2.84126963800831\n",
       "\\item 1.52532545248798\n",
       "\\item 1.07059273403361\n",
       "\\item 0.984635656450231\n",
       "\\item 0.820750502886458\n",
       "\\item 0.774672183940846\n",
       "\\item 0.693071684494534\n",
       "\\item 0.680975187502954\n",
       "\\item 0.624318801070588\n",
       "\\item 0.587022857684837\n",
       "\\item 0.397365301439658\n",
       "\\end{enumerate*}\n"
      ],
      "text/markdown": [
       "1. 2.84126963800831\n",
       "2. 1.52532545248798\n",
       "3. 1.07059273403361\n",
       "4. 0.984635656450231\n",
       "5. 0.820750502886458\n",
       "6. 0.774672183940846\n",
       "7. 0.693071684494534\n",
       "8. 0.680975187502954\n",
       "9. 0.624318801070588\n",
       "10. 0.587022857684837\n",
       "11. 0.397365301439658\n",
       "\n",
       "\n"
      ],
      "text/plain": [
       " [1] 2.8412696 1.5253255 1.0705927 0.9846357 0.8207505 0.7746722 0.6930717\n",
       " [8] 0.6809752 0.6243188 0.5870229 0.3973653"
      ]
     },
     "metadata": {},
     "output_type": "display_data"
    }
   ],
   "source": [
    "pc1 <- principal(data, nfactors=11, rotate=\"none\")\n",
    "pc1$values\n"
   ]
  },
  {
   "cell_type": "code",
   "execution_count": 84,
   "metadata": {},
   "outputs": [
    {
     "data": {
      "text/html": [
       "<strong>pdf:</strong> 2"
      ],
      "text/latex": [
       "\\textbf{pdf:} 2"
      ],
      "text/markdown": [
       "**pdf:** 2"
      ],
      "text/plain": [
       "pdf \n",
       "  2 "
      ]
     },
     "metadata": {},
     "output_type": "display_data"
    }
   ],
   "source": [
    "pc1 <- principal(data, nfactors=11, rotate=\"none\")\n",
    "tiff(\"plot.tiff\", units=\"in\", width=5, height=5, res=300)\n",
    "\n",
    "\n",
    "plot(pc1$values, type=\"b\",ylab=\"Eigen Values\",main=\"Scree Plot\")\n",
    "dev.off()\n"
   ]
  },
  {
   "cell_type": "code",
   "execution_count": 66,
   "metadata": {},
   "outputs": [
    {
     "name": "stderr",
     "output_type": "stream",
     "text": [
      "Warning message in fa.parallel(data):\n",
      "“It seems as if you are using a correlation matrix, but have not specified the number of cases. The number of subjects is arbitrarily set to be 100  ”\n"
     ]
    },
    {
     "name": "stdout",
     "output_type": "stream",
     "text": [
      "Parallel analysis suggests that the number of factors =  2  and the number of components =  2 \n"
     ]
    },
    {
     "data": {
      "text/html": [
       "<strong>pdf:</strong> 2"
      ],
      "text/latex": [
       "\\textbf{pdf:} 2"
      ],
      "text/markdown": [
       "**pdf:** 2"
      ],
      "text/plain": [
       "pdf \n",
       "  2 "
      ]
     },
     "metadata": {},
     "output_type": "display_data"
    }
   ],
   "source": [
    "tiff(\"plot.tiff\", units=\"in\", width=5, height=5, res=300)\n",
    "\n",
    "\n",
    "fa.parallel(data)\n",
    "\n",
    "dev.off()\n",
    "\n"
   ]
  },
  {
   "cell_type": "code",
   "execution_count": 67,
   "metadata": {},
   "outputs": [
    {
     "name": "stderr",
     "output_type": "stream",
     "text": [
      "\n",
      "\n",
      "Velicer's Minimum Average Partial Test\n",
      "\n",
      "\n",
      "The entered data is a correlation matrix.\n",
      "\n",
      "\n",
      "Eigenvalues:\n",
      "\n",
      "\n"
     ]
    },
    {
     "name": "stdout",
     "output_type": "stream",
     "text": [
      " root  eigenvalue\n",
      "    1     2.84127\n",
      "    2     1.52533\n",
      "    3     1.07059\n",
      "    4     0.98464\n",
      "    5     0.82075\n",
      "    6     0.77467\n",
      "    7     0.69307\n",
      "    8     0.68098\n",
      "    9     0.62432\n",
      "   10     0.58702\n",
      "   11     0.39737\n"
     ]
    },
    {
     "name": "stderr",
     "output_type": "stream",
     "text": [
      "\n",
      "Velicer's Average Squared Correlations\n",
      "\n",
      "\n"
     ]
    },
    {
     "name": "stdout",
     "output_type": "stream",
     "text": [
      " root   Avg.Corr.Sq.   Avg.Corr.power4\n",
      "    0        0.04205           0.00485\n",
      "    1        0.02185           0.00098\n",
      "    2        0.02727           0.00189\n",
      "    3        0.04340           0.00665\n",
      "    4        0.06414           0.01283\n",
      "    5        0.10898           0.03844\n",
      "    6        0.15543           0.08865\n",
      "    7        0.21172           0.12644\n",
      "    8        0.34830           0.23389\n",
      "    9        0.45857           0.34241\n",
      "   10        1.00000           1.00000\n"
     ]
    },
    {
     "name": "stderr",
     "output_type": "stream",
     "text": [
      "\n",
      "The smallest average squared correlation is 0.02185\n",
      "\n",
      "\n",
      "The smallest average 4rth power correlation is 0.00098\n",
      "\n",
      "\n",
      "The Number of Factors According to the Original (1976) MAP Test is = 1\n",
      "\n",
      "\n",
      "The Number of Factors According to the Revised (2000) MAP Test is = 1\n",
      "\n",
      "\n"
     ]
    }
   ],
   "source": [
    "MAP(data, corkind='polychoric') "
   ]
  },
  {
   "cell_type": "code",
   "execution_count": 17,
   "metadata": {},
   "outputs": [
    {
     "ename": "ERROR",
     "evalue": "Error in solve.default(cv): system is computationally singular: reciprocal condition number = 6.35056e-18\n",
     "output_type": "error",
     "traceback": [
      "Error in solve.default(cv): system is computationally singular: reciprocal condition number = 6.35056e-18\nTraceback:\n",
      "1. factanal(na.omit(data), 2, rotation = \"promax\")",
      "2. diag(solve(cv))",
      "3. solve(cv)",
      "4. solve.default(cv)"
     ]
    }
   ],
   "source": [
    "fit <- factanal(na.omit(data), 2, rotation=\"promax\")\n",
    "x=print(fit, digits=2, cutoff=.32, sort=TRUE)"
   ]
  },
  {
   "cell_type": "code",
   "execution_count": 102,
   "metadata": {},
   "outputs": [
    {
     "data": {
      "text/plain": [
       "Factor Analysis using method =  pa\n",
       "Call: fa(r = data, nfactors = 2, rotate = \"oblimin\", fm = \"pa\")\n",
       "Standardized loadings (pattern matrix) based upon correlation matrix\n",
       "         PA1   PA2    h2   u2 com\n",
       "Item1   0.29 -0.08 0.108 0.89 1.1\n",
       "Item2   0.01  0.67 0.441 0.56 1.0\n",
       "Item3  -0.02  0.51 0.265 0.74 1.0\n",
       "Item4  -0.03  0.41 0.179 0.82 1.0\n",
       "Item5  -0.09  0.36 0.159 0.84 1.1\n",
       "Item6   0.52 -0.08 0.305 0.70 1.0\n",
       "Item7   0.17  0.23 0.055 0.94 1.8\n",
       "Item8   0.74  0.06 0.519 0.48 1.0\n",
       "Item9   0.49 -0.02 0.250 0.75 1.0\n",
       "Item10  0.73 -0.05 0.557 0.44 1.0\n",
       "Item11  0.45  0.05 0.193 0.81 1.0\n",
       "\n",
       "                       PA1  PA2\n",
       "SS loadings           1.94 1.09\n",
       "Proportion Var        0.18 0.10\n",
       "Cumulative Var        0.18 0.28\n",
       "Proportion Explained  0.64 0.36\n",
       "Cumulative Proportion 0.64 1.00\n",
       "\n",
       " With factor correlations of \n",
       "      PA1   PA2\n",
       "PA1  1.00 -0.35\n",
       "PA2 -0.35  1.00\n",
       "\n",
       "Mean item complexity =  1.1\n",
       "Test of the hypothesis that 2 factors are sufficient.\n",
       "\n",
       "The degrees of freedom for the null model are  55  and the objective function was  1.61\n",
       "The degrees of freedom for the model are 34  and the objective function was  0.15 \n",
       "\n",
       "The root mean square of the residuals (RMSR) is  0.04 \n",
       "The df corrected root mean square of the residuals is  0.05 \n",
       "\n",
       "Fit based upon off diagonal values = 0.96\n",
       "Measures of factor score adequacy             \n",
       "                                                   PA1  PA2\n",
       "Correlation of (regression) scores with factors   0.88 0.79\n",
       "Multiple R square of scores with factors          0.78 0.63\n",
       "Minimum correlation of possible factor scores     0.56 0.26"
      ]
     },
     "metadata": {},
     "output_type": "display_data"
    }
   ],
   "source": [
    "root.cor.fa <- fa(data, nfactors = 2, rotate = 'oblimin', fm = 'pa')\n",
    "root.cor.fa"
   ]
  },
  {
   "cell_type": "code",
   "execution_count": 173,
   "metadata": {},
   "outputs": [
    {
     "data": {
      "image/png": "[encoded data removed]",
      "text/plain": [
       "Plot with title “Factor Analysis”"
      ]
     },
     "metadata": {
      "image/png": {
       "height": 420,
       "width": 420
      }
     },
     "output_type": "display_data"
    }
   ],
   "source": [
    "EFA_model <- fa(data,2,rotate=\"oblimin\")\n",
    "fa.diagram(EFA_model)"
   ]
  },
  {
   "cell_type": "markdown",
   "metadata": {},
   "source": [
    "# Scale - Factor 1"
   ]
  },
  {
   "cell_type": "code",
   "execution_count": 8,
   "metadata": {},
   "outputs": [
    {
     "name": "stderr",
     "output_type": "stream",
     "text": [
      "Warning message:\n",
      "“`select_()` is deprecated as of dplyr 0.7.0.\n",
      "Please use `select()` instead.\n",
      "\u001b[90mThis warning is displayed once every 8 hours.\u001b[39m\n",
      "\u001b[90mCall `lifecycle::last_warnings()` to see where this warning was generated.\u001b[39m”\n"
     ]
    },
    {
     "ename": "ERROR",
     "evalue": "Error in UseMethod(\"select_\"): no applicable method for 'select_' applied to an object of class \"c('matrix', 'array', 'double', 'numeric')\"\n",
     "output_type": "error",
     "traceback": [
      "Error in UseMethod(\"select_\"): no applicable method for 'select_' applied to an object of class \"c('matrix', 'array', 'double', 'numeric')\"\nTraceback:\n",
      "1. select(data, 6, 8, 9, 10, 11)",
      "2. select.default(data, 6, 8, 9, 10, 11)",
      "3. select_(.data, .dots = compat_as_lazy_dots(...))"
     ]
    }
   ],
   "source": [
    "factor1 <- select(data, 6,8,9,10,11) #each number refers to the column"
   ]
  },
  {
   "cell_type": "code",
   "execution_count": 135,
   "metadata": {},
   "outputs": [
    {
     "data": {
      "text/plain": [
       "\n",
       "Reliability analysis   \n",
       "Call: psych::alpha(x = factor1)\n",
       "\n",
       "  raw_alpha std.alpha G6(smc) average_r S/N   ase mean  sd median_r\n",
       "      0.55      0.57    0.52      0.21 1.3 0.013  2.8 0.3      0.2\n",
       "\n",
       " lower alpha upper     95% confidence boundaries\n",
       "0.53 0.55 0.58 \n",
       "\n",
       " Reliability if an item is dropped:\n",
       "       raw_alpha std.alpha G6(smc) average_r  S/N alpha se  var.r med.r\n",
       "Item6       0.50      0.52    0.45      0.21 1.06    0.015 0.0058  0.20\n",
       "Item8       0.45      0.46    0.40      0.18 0.87    0.017 0.0011  0.19\n",
       "Item9       0.51      0.53    0.47      0.22 1.13    0.015 0.0058  0.20\n",
       "Item10      0.47      0.47    0.41      0.18 0.90    0.016 0.0029  0.17\n",
       "Item11      0.55      0.56    0.49      0.24 1.26    0.014 0.0037  0.22\n",
       "\n",
       " Item statistics \n",
       "          n raw.r std.r r.cor r.drop mean   sd\n",
       "Item6  2844  0.62  0.60  0.42   0.32  2.7 0.53\n",
       "Item8  2844  0.68  0.66  0.54   0.39  2.7 0.55\n",
       "Item9  2844  0.56  0.58  0.38   0.28  2.8 0.47\n",
       "Item10 2844  0.59  0.65  0.52   0.39  2.9 0.37\n",
       "Item11 2844  0.56  0.54  0.32   0.24  2.7 0.54\n",
       "\n",
       "Non missing response frequency for each item\n",
       "          1    2    3 miss\n",
       "Item6  0.04 0.20 0.76    0\n",
       "Item8  0.05 0.21 0.75    0\n",
       "Item9  0.03 0.16 0.82    0\n",
       "Item10 0.01 0.10 0.89    0\n",
       "Item11 0.04 0.20 0.76    0"
      ]
     },
     "metadata": {},
     "output_type": "display_data"
    }
   ],
   "source": [
    "psych::alpha(factor1)"
   ]
  },
  {
   "cell_type": "code",
   "execution_count": 136,
   "metadata": {},
   "outputs": [
    {
     "name": "stderr",
     "output_type": "stream",
     "text": [
      "\n",
      "Three factors are required for identification -- general factor loadings set to be equal. \n",
      "Proceed with caution. \n",
      "Think about redoing the analysis with alternative values of the 'option' setting.\n",
      "\n",
      "\n"
     ]
    },
    {
     "data": {
      "text/plain": [
       "Omega \n",
       "Call: omegah(m = m, nfactors = nfactors, fm = fm, key = key, flip = flip, \n",
       "    digits = digits, title = title, sl = sl, labels = labels, \n",
       "    plot = plot, n.obs = n.obs, rotate = rotate, Phi = Phi, option = option, \n",
       "    covar = covar)\n",
       "Alpha:                 0.55 \n",
       "G.6:                   0.55 \n",
       "Omega Hierarchical:    0.26 \n",
       "Omega H asymptotic:    0.45 \n",
       "Omega Total            0.59 \n",
       "\n",
       "Schmid Leiman Factor loadings greater than  0.2 \n",
       "           g   F1*   F2*   h2   u2   p2\n",
       "Item1                    0.07 0.93 0.40\n",
       "Item2-  0.30       -0.48 0.32 0.68 0.28\n",
       "Item3-  0.25       -0.37 0.20 0.80 0.30\n",
       "Item4-  0.20       -0.29 0.12 0.88 0.32\n",
       "Item5-  0.21       -0.26 0.12 0.88 0.38\n",
       "Item6   0.26  0.35       0.19 0.81 0.35\n",
       "Item7-                   0.04 0.96 0.03\n",
       "Item8   0.30  0.51       0.35 0.65 0.27\n",
       "Item9   0.21  0.32       0.15 0.85 0.31\n",
       "Item10  0.31  0.46       0.31 0.69 0.30\n",
       "Item11        0.28       0.11 0.89 0.26\n",
       "\n",
       "With eigenvalues of:\n",
       "   g  F1*  F2* \n",
       "0.59 0.83 0.56 \n",
       "\n",
       "general/max  0.72   max/min =   1.47\n",
       "mean percent general =  0.29    with sd =  0.1 and cv of  0.33 \n",
       "Explained Common Variance of the general factor =  0.3 \n",
       "\n",
       "The degrees of freedom are 34  and the fit is  0.06 \n",
       "\n",
       "The root mean square of the residuals is  0.03 \n",
       "The df corrected root mean square of the residuals is  0.04\n",
       "\n",
       "Compare this with the adequacy of just a general factor and no group factors\n",
       "The degrees of freedom for just the general factor are 44  and the fit is  0.33 \n",
       "\n",
       "The root mean square of the residuals is  0.09 \n",
       "The df corrected root mean square of the residuals is  0.1 \n",
       "\n",
       "Measures of factor score adequacy             \n",
       "                                                  g   F1*   F2*\n",
       "Correlation of scores with factors             0.53  0.67  0.61\n",
       "Multiple R square of scores with factors       0.28  0.44  0.37\n",
       "Minimum correlation of factor score estimates -0.43 -0.11 -0.26\n",
       "\n",
       " Total, General and Subset omega for each subset\n",
       "                                                 g  F1*  F2*\n",
       "Omega total for total scores and subscales    0.59 0.57 0.45\n",
       "Omega general for total scores and subscales  0.26 0.18 0.13\n",
       "Omega group for total scores and subscales    0.31 0.39 0.32"
      ]
     },
     "metadata": {},
     "output_type": "display_data"
    },
    {
     "data": {
      "image/png": "[encoded data removed]",
      "text/plain": [
       "Plot with title “Omega”"
      ]
     },
     "metadata": {
      "image/png": {
       "height": 420,
       "width": 420
      }
     },
     "output_type": "display_data"
    }
   ],
   "source": [
    "omega(cor(data),nfactors=2,fm=\"pa\")"
   ]
  },
  {
   "cell_type": "code",
   "execution_count": 137,
   "metadata": {},
   "outputs": [
    {
     "data": {
      "text/plain": [
       "\n",
       "Reliability analysis   \n",
       "Call: psych::alpha(x = factor2)\n",
       "\n",
       "  raw_alpha std.alpha G6(smc) average_r  S/N   ase mean   sd median_r\n",
       "      0.44      0.46     0.4      0.18 0.85 0.017  1.7 0.37     0.17\n",
       "\n",
       " lower alpha upper     95% confidence boundaries\n",
       "0.4 0.44 0.47 \n",
       "\n",
       " Reliability if an item is dropped:\n",
       "      raw_alpha std.alpha G6(smc) average_r  S/N alpha se  var.r med.r\n",
       "Item2      0.31      0.32    0.24      0.14 0.47    0.022 0.0009  0.15\n",
       "Item3      0.34      0.35    0.27      0.15 0.55    0.021 0.0021  0.18\n",
       "Item4      0.42      0.44    0.35      0.21 0.78    0.019 0.0044  0.18\n",
       "Item5      0.41      0.44    0.35      0.20 0.77    0.019 0.0047  0.18\n",
       "\n",
       " Item statistics \n",
       "         n raw.r std.r r.cor r.drop mean   sd\n",
       "Item2 2844  0.62  0.67  0.49   0.32  1.7 0.53\n",
       "Item3 2844  0.58  0.64  0.44   0.29  1.9 0.51\n",
       "Item4 2844  0.64  0.58  0.31   0.21  1.6 0.71\n",
       "Item5 2844  0.61  0.58  0.31   0.21  1.7 0.66\n",
       "\n",
       "Non missing response frequency for each item\n",
       "         1    2    3 miss\n",
       "Item2 0.31 0.65 0.04    0\n",
       "Item3 0.16 0.74 0.10    0\n",
       "Item4 0.58 0.29 0.13    0\n",
       "Item5 0.41 0.47 0.12    0"
      ]
     },
     "metadata": {},
     "output_type": "display_data"
    }
   ],
   "source": [
    "factor2 <- select(data, 2,3,4,5) #each number refers to the column\n",
    "psych::alpha(factor2)"
   ]
  },
  {
   "cell_type": "code",
   "execution_count": 177,
   "metadata": {},
   "outputs": [],
   "source": [
    "setwd(\"/Users/mayanksharma/Desktop/SEL Screener\")"
   ]
  },
  {
   "cell_type": "code",
   "execution_count": 1,
   "metadata": {},
   "outputs": [
    {
     "name": "stderr",
     "output_type": "stream",
     "text": [
      "Warning message in file(file, \"rt\"):\n",
      "“cannot open file 'factorloadings.csv': No such file or directory”\n"
     ]
    },
    {
     "ename": "ERROR",
     "evalue": "Error in file(file, \"rt\"): cannot open the connection\n",
     "output_type": "error",
     "traceback": [
      "Error in file(file, \"rt\"): cannot open the connection\nTraceback:\n",
      "1. read.csv(\"factorloadings.csv\")",
      "2. read.table(file = file, header = header, sep = sep, quote = quote, \n .     dec = dec, fill = fill, comment.char = comment.char, ...)",
      "3. file(file, \"rt\")"
     ]
    }
   ],
   "source": [
    "loadings.m<-read.csv(\"factorloadings.csv\")"
   ]
  },
  {
   "cell_type": "code",
   "execution_count": 2,
   "metadata": {},
   "outputs": [
    {
     "ename": "ERROR",
     "evalue": "Error in ggplot(loadings.m, aes(Items, abs(Loading), fill = Loading)): object 'loadings.m' not found\n",
     "output_type": "error",
     "traceback": [
      "Error in ggplot(loadings.m, aes(Items, abs(Loading), fill = Loading)): object 'loadings.m' not found\nTraceback:\n",
      "1. ggplot(loadings.m, aes(Items, abs(Loading), fill = Loading))"
     ]
    }
   ],
   "source": [
    "library(reshape2)\n",
    "library(ggplot2)\n",
    "\n",
    "tiff(\"plot.tiff\", units=\"in\", width=5, height=5, res=300)\n",
    "\n",
    "ggplot(loadings.m, aes(Items, abs(Loading), fill=Loading)) + \n",
    "  facet_wrap(~ Factor, nrow=1) + #place the factors in separate facets\n",
    "  geom_bar(stat=\"identity\") + #make the bars\n",
    "  coord_flip() + #flip the axes so the test names can be horizontal  \n",
    "  #define the fill color gradient: blue=positive, red=negative\n",
    "  scale_fill_gradient2(name = \"Loading\", \n",
    "                       high = \"orange\", mid = \"white\", low = \"red\", \n",
    "                       midpoint=0, guide=F) \n",
    "dev.off()"
   ]
  },
  {
   "cell_type": "code",
   "execution_count": 180,
   "metadata": {},
   "outputs": [
    {
     "data": {
      "text/html": [
       "<strong>pdf:</strong> 2"
      ],
      "text/latex": [
       "\\textbf{pdf:} 2"
      ],
      "text/markdown": [
       "**pdf:** 2"
      ],
      "text/plain": [
       "pdf \n",
       "  2 "
      ]
     },
     "metadata": {},
     "output_type": "display_data"
    }
   ],
   "source": [
    "tiff(\"plot.tiff\", units=\"in\", width=5, height=3, res=300)\n",
    "\n",
    "\n",
    "\n",
    "ggplot(loadings.m, aes(abs(Loading), Items, fill=Factor)) + \n",
    "  geom_bar(stat=\"identity\", aes(fill = abs(Loading) > 0.32 )) +\n",
    "  facet_grid(. ~ Factor)+\n",
    "  xlab(\"Loading Strength\") +\n",
    "  theme(text = element_text(size=10))+\n",
    "  theme_bw(base_size=10)+\n",
    "  geom_vline(xintercept = 0.32, color = \"yellow\", size=0.5) +\n",
    "  scale_fill_manual(values = c('violetred1', 'violetred4') )+\n",
    "  theme(axis.text.x = element_text(color = \"grey20\", size = 7, angle = 90, hjust = .5, vjust = .5, face = \"plain\",family=\"serif\"),\n",
    "        axis.text.y = element_text(color = \"grey20\", size = 7, angle = 0, hjust = 1, vjust = 0, face = \"plain\",family=\"serif\"),  \n",
    "        axis.title.x = element_text(color = \"grey20\", size = 7, angle = 0, hjust = .5, vjust = 0, face = \"plain\",family=\"serif\"),\n",
    "        axis.title.y = element_text(color = \"grey20\", size = 7, angle = 90, hjust = .5, vjust = .5, face = \"plain\",family=\"serif\"))\n",
    "\n",
    "dev.off()\n",
    "\n"
   ]
  },
  {
   "cell_type": "markdown",
   "metadata": {},
   "source": [
    "# CFA"
   ]
  },
  {
   "cell_type": "code",
   "execution_count": 125,
   "metadata": {},
   "outputs": [],
   "source": [
    "setwd(\"/Users/mayanksharma/Desktop/SEL Screener/Final Student Qnnaire\")\n",
    "data=read.csv(\"CFAData.csv\")"
   ]
  },
  {
   "cell_type": "code",
   "execution_count": 88,
   "metadata": {},
   "outputs": [
    {
     "data": {
      "text/html": [
       "<style>\n",
       ".list-inline {list-style: none; margin:0; padding: 0}\n",
       ".list-inline>li {display: inline-block}\n",
       ".list-inline>li:not(:last-child)::after {content: \"\\00b7\"; padding: 0 .5ex}\n",
       "</style>\n",
       "<ol class=list-inline><li>'#000000'</li><li>'#FFFFFF00'</li><li>'#FFFFFF00'</li><li>'#FFFFFF00'</li><li>'#FFFFFF00'</li><li>'#FFFFFF00'</li><li>'#000000'</li><li>'#FFFFFF00'</li><li>'#FFFFFF00'</li><li>'#FFFFFF00'</li><li>'#FFFFFF00'</li><li>'#FFFFFF00'</li><li>'#000000'</li><li>'#FFFFFF00'</li><li>'#FFFFFF00'</li><li>'#FFFFFF00'</li><li>'#FFFFFF00'</li><li>'#FFFFFF00'</li><li>'#000000'</li><li>'#FFFFFF00'</li><li>'#FFFFFF00'</li><li>'#FFFFFF00'</li><li>'#FFFFFF00'</li><li>'#FFFFFF00'</li><li>'#000000'</li></ol>\n"
      ],
      "text/latex": [
       "\\begin{enumerate*}\n",
       "\\item '\\#000000'\n",
       "\\item '\\#FFFFFF00'\n",
       "\\item '\\#FFFFFF00'\n",
       "\\item '\\#FFFFFF00'\n",
       "\\item '\\#FFFFFF00'\n",
       "\\item '\\#FFFFFF00'\n",
       "\\item '\\#000000'\n",
       "\\item '\\#FFFFFF00'\n",
       "\\item '\\#FFFFFF00'\n",
       "\\item '\\#FFFFFF00'\n",
       "\\item '\\#FFFFFF00'\n",
       "\\item '\\#FFFFFF00'\n",
       "\\item '\\#000000'\n",
       "\\item '\\#FFFFFF00'\n",
       "\\item '\\#FFFFFF00'\n",
       "\\item '\\#FFFFFF00'\n",
       "\\item '\\#FFFFFF00'\n",
       "\\item '\\#FFFFFF00'\n",
       "\\item '\\#000000'\n",
       "\\item '\\#FFFFFF00'\n",
       "\\item '\\#FFFFFF00'\n",
       "\\item '\\#FFFFFF00'\n",
       "\\item '\\#FFFFFF00'\n",
       "\\item '\\#FFFFFF00'\n",
       "\\item '\\#000000'\n",
       "\\end{enumerate*}\n"
      ],
      "text/markdown": [
       "1. '#000000'\n",
       "2. '#FFFFFF00'\n",
       "3. '#FFFFFF00'\n",
       "4. '#FFFFFF00'\n",
       "5. '#FFFFFF00'\n",
       "6. '#FFFFFF00'\n",
       "7. '#000000'\n",
       "8. '#FFFFFF00'\n",
       "9. '#FFFFFF00'\n",
       "10. '#FFFFFF00'\n",
       "11. '#FFFFFF00'\n",
       "12. '#FFFFFF00'\n",
       "13. '#000000'\n",
       "14. '#FFFFFF00'\n",
       "15. '#FFFFFF00'\n",
       "16. '#FFFFFF00'\n",
       "17. '#FFFFFF00'\n",
       "18. '#FFFFFF00'\n",
       "19. '#000000'\n",
       "20. '#FFFFFF00'\n",
       "21. '#FFFFFF00'\n",
       "22. '#FFFFFF00'\n",
       "23. '#FFFFFF00'\n",
       "24. '#FFFFFF00'\n",
       "25. '#000000'\n",
       "\n",
       "\n"
      ],
      "text/plain": [
       " [1] \"#000000\"   \"#FFFFFF00\" \"#FFFFFF00\" \"#FFFFFF00\" \"#FFFFFF00\" \"#FFFFFF00\"\n",
       " [7] \"#000000\"   \"#FFFFFF00\" \"#FFFFFF00\" \"#FFFFFF00\" \"#FFFFFF00\" \"#FFFFFF00\"\n",
       "[13] \"#000000\"   \"#FFFFFF00\" \"#FFFFFF00\" \"#FFFFFF00\" \"#FFFFFF00\" \"#FFFFFF00\"\n",
       "[19] \"#000000\"   \"#FFFFFF00\" \"#FFFFFF00\" \"#FFFFFF00\" \"#FFFFFF00\" \"#FFFFFF00\"\n",
       "[25] \"#000000\"  "
      ]
     },
     "metadata": {},
     "output_type": "display_data"
    }
   ],
   "source": [
    "ABC=read.csv(\"pseo_rel.csv\")\n",
    "ABC.pc <- polychoric(ABC)\n",
    "alpha(ABC.pc$rho)"
   ]
  },
  {
   "cell_type": "code",
   "execution_count": 22,
   "metadata": {},
   "outputs": [
    {
     "name": "stderr",
     "output_type": "stream",
     "text": [
      "Omega_h for 1 factor is not meaningful, just omega_t\n",
      "\n",
      "Warning message in schmid(m, nfactors, fm, digits, rotate = rotate, n.obs = n.obs, :\n",
      "“Omega_h and Omega_asymptotic are not meaningful with one factor”\n",
      "Warning message in cov2cor(t(w) %*% r %*% w):\n",
      "“diag(.) had 0 or NA entries; non-finite result is doubtful”\n"
     ]
    },
    {
     "data": {
      "text/plain": [
       "Omega \n",
       "Call: omegah(m = m, nfactors = nfactors, fm = fm, key = key, flip = flip, \n",
       "    digits = digits, title = title, sl = sl, labels = labels, \n",
       "    plot = plot, n.obs = n.obs, rotate = rotate, Phi = Phi, option = option, \n",
       "    covar = covar)\n",
       "Alpha:                 0.7 \n",
       "G.6:                   0.68 \n",
       "Omega Hierarchical:    0.72 \n",
       "Omega H asymptotic:    1.01 \n",
       "Omega Total            0.71 \n",
       "\n",
       "Schmid Leiman Factor loadings greater than  0.2 \n",
       "          g  F1*   h2   u2 p2\n",
       "Item6  0.45      0.20 0.80  1\n",
       "Item8  0.68      0.46 0.54  1\n",
       "Item9  0.50      0.25 0.75  1\n",
       "Item10 0.85      0.73 0.27  1\n",
       "Item11 0.36      0.13 0.87  1\n",
       "\n",
       "With eigenvalues of:\n",
       "  g F1* \n",
       "1.8 0.0 \n",
       "\n",
       "general/max  Inf   max/min =   NaN\n",
       "mean percent general =  1    with sd =  0 and cv of  0 \n",
       "Explained Common Variance of the general factor =  1 \n",
       "\n",
       "The degrees of freedom are 5  and the fit is  0.05 \n",
       "\n",
       "The root mean square of the residuals is  0.05 \n",
       "The df corrected root mean square of the residuals is  0.07\n",
       "\n",
       "Compare this with the adequacy of just a general factor and no group factors\n",
       "The degrees of freedom for just the general factor are 5  and the fit is  0.05 \n",
       "\n",
       "The root mean square of the residuals is  0.05 \n",
       "The df corrected root mean square of the residuals is  0.07 \n",
       "\n",
       "Measures of factor score adequacy             \n",
       "                                                 g F1*\n",
       "Correlation of scores with factors            0.90   0\n",
       "Multiple R square of scores with factors      0.81   0\n",
       "Minimum correlation of factor score estimates 0.63  -1\n",
       "\n",
       " Total, General and Subset omega for each subset\n",
       "                                                 g  F1*\n",
       "Omega total for total scores and subscales    0.71 0.72\n",
       "Omega general for total scores and subscales  0.72 0.72\n",
       "Omega group for total scores and subscales    0.00 0.00"
      ]
     },
     "metadata": {},
     "output_type": "display_data"
    }
   ],
   "source": [
    "omega(ABC.pc$rho,nfactors = 1)"
   ]
  },
  {
   "cell_type": "code",
   "execution_count": 126,
   "metadata": {},
   "outputs": [],
   "source": [
    "model <- 'ProsocialOrientations=~Item6+Item8+Item9+Item10+Item11\n",
    "          ProsocialChallenges=~Item2+Item3+Item4'\n",
    "      "
   ]
  },
  {
   "cell_type": "code",
   "execution_count": 121,
   "metadata": {},
   "outputs": [],
   "source": [
    "data$Item2<- factor(data$Item2, ordered = TRUE, levels = c(\"1\", \"2\",\"3\"))\n",
    "data$Item3<- factor(data$Item3, ordered = TRUE, levels = c(\"1\", \"2\",\"3\"))\n",
    "data$Item4<- factor(data$Item4, ordered = TRUE, levels = c(\"1\", \"2\",\"3\"))\n",
    "data$Item6<- factor(data$Item6, ordered = TRUE, levels = c(\"1\", \"2\",\"3\"))\n",
    "\n",
    "data$Item8<- factor(data$Item8, ordered = TRUE, levels = c(\"1\", \"2\",\"3\"))\n",
    "data$Item9<- factor(data$Item9, ordered = TRUE, levels = c(\"1\", \"2\",\"3\"))\n",
    "\n",
    "\n",
    "data$Item10<- factor(data$Item10, ordered = TRUE, levels = c(\"1\", \"2\",\"3\"))\n",
    "data$Item11<- factor(data$Item11, ordered = TRUE, levels = c(\"1\", \"2\",\"3\"))\n",
    "\n",
    "data$Gender=as.factor(data$Gender)"
   ]
  },
  {
   "cell_type": "code",
   "execution_count": null,
   "metadata": {},
   "outputs": [],
   "source": []
  },
  {
   "cell_type": "code",
   "execution_count": null,
   "metadata": {},
   "outputs": [],
   "source": []
  },
  {
   "cell_type": "code",
   "execution_count": 118,
   "metadata": {},
   "outputs": [
    {
     "name": "stderr",
     "output_type": "stream",
     "text": [
      "Warning message:\n",
      "“The measurementInvarianceCat function is deprecated, and it will cease to be included in future versions of semTools. See help('semTools-deprecated) for details.”\n"
     ]
    },
    {
     "name": "stdout",
     "output_type": "stream",
     "text": [
      "\n",
      "Measurement invariance models:\n",
      "\n",
      "Model 1 : fit.configural\n",
      "Model 2 : fit.loadings\n",
      "Model 3 : fit.thresholds\n",
      "Model 4 : fit.means\n",
      "\n",
      "Scaled Chi-Squared Difference Test (method = “satorra.2000”)\n",
      "\n",
      "lavaan NOTE:\n",
      "    The “Chisq” column contains standard test statistics, not the\n",
      "    robust test that should be reported per model. A robust difference\n",
      "    test is a function of two standard (not robust) statistics.\n",
      " \n",
      "               Df AIC BIC   Chisq Chisq diff Df diff Pr(>Chisq)    \n",
      "fit.configural 38          85.751                                  \n",
      "fit.loadings   44         103.299     17.261       6    0.00837 ** \n",
      "fit.thresholds 50         132.816     39.448       6  5.846e-07 ***\n",
      "fit.means      52         179.992     30.564       2  2.307e-07 ***\n",
      "---\n",
      "Signif. codes:  0 ‘***’ 0.001 ‘**’ 0.01 ‘*’ 0.05 ‘.’ 0.1 ‘ ’ 1\n",
      "\n",
      "\n",
      "Fit measures:\n",
      "\n",
      "                 cfi   tli   ifi   gfi rmsea  srmr cfi.delta tli.delta\n",
      "fit.configural 0.964 0.947 0.965 0.993 0.041 0.061        NA        NA\n",
      "fit.loadings   0.955 0.943 0.956 0.991 0.042 0.065     0.009     0.004\n",
      "fit.thresholds 0.938 0.930 0.938 0.988 0.047 0.066     0.018     0.013\n",
      "fit.means      0.904 0.896 0.904 0.984 0.057 0.066     0.034     0.034\n",
      "               ifi.delta gfi.delta rmsea.delta srmr.delta\n",
      "fit.configural        NA        NA          NA         NA\n",
      "fit.loadings       0.009     0.002       0.001      0.004\n",
      "fit.thresholds     0.018     0.003       0.005      0.001\n",
      "fit.means          0.034     0.004       0.010      0.000\n",
      "\n"
     ]
    }
   ],
   "source": [
    "library(semTools)\n",
    "measurementInvarianceCat(model = model, data=data, group=\"Gender\",missing=\"pairwise\",fit.measures = c(\"cfi\",\"tli\",\"ifi\",\"gfi\",\"rmsea\",\"srmr\"))"
   ]
  },
  {
   "cell_type": "code",
   "execution_count": 114,
   "metadata": {},
   "outputs": [
    {
     "data": {
      "text/html": [
       "<table>\n",
       "<caption>A lavaan.matrix.symmetric: 2 × 2 of type dbl</caption>\n",
       "<thead>\n",
       "\t<tr><th></th><th scope=col>ProsocialOrientations</th><th scope=col>ProsocialChallenges</th></tr>\n",
       "</thead>\n",
       "<tbody>\n",
       "\t<tr><th scope=row>ProsocialOrientations</th><td>1.0000000</td><td>0.3228443</td></tr>\n",
       "\t<tr><th scope=row>ProsocialChallenges</th><td>0.3228443</td><td>1.0000000</td></tr>\n",
       "</tbody>\n",
       "</table>\n"
      ],
      "text/latex": [
       "A lavaan.matrix.symmetric: 2 × 2 of type dbl\n",
       "\\begin{tabular}{r|ll}\n",
       "  & ProsocialOrientations & ProsocialChallenges\\\\\n",
       "\\hline\n",
       "\tProsocialOrientations & 1.0000000 & 0.3228443\\\\\n",
       "\tProsocialChallenges & 0.3228443 & 1.0000000\\\\\n",
       "\\end{tabular}\n"
      ],
      "text/markdown": [
       "\n",
       "A lavaan.matrix.symmetric: 2 × 2 of type dbl\n",
       "\n",
       "| <!--/--> | ProsocialOrientations | ProsocialChallenges |\n",
       "|---|---|---|\n",
       "| ProsocialOrientations | 1.0000000 | 0.3228443 |\n",
       "| ProsocialChallenges | 0.3228443 | 1.0000000 |\n",
       "\n"
      ],
      "text/plain": [
       "                      ProsocialOrientations ProsocialChallenges\n",
       "ProsocialOrientations 1.0000000             0.3228443          \n",
       "ProsocialChallenges   0.3228443             1.0000000          "
      ]
     },
     "metadata": {},
     "output_type": "display_data"
    }
   ],
   "source": [
    "library(semTools)\n",
    "library(lavaan)\n",
    "htmt(model, data =data, sample.cov = NULL, missing = \"listwise\",\n",
    "  ordered = NULL, absolute = TRUE)"
   ]
  },
  {
   "cell_type": "code",
   "execution_count": 123,
   "metadata": {},
   "outputs": [],
   "source": [
    "fit <- cfa(model, data=data, \n",
    "           std.lv=TRUE,test=\"Satorra.Bentler\")"
   ]
  },
  {
   "cell_type": "code",
   "execution_count": 116,
   "metadata": {},
   "outputs": [
    {
     "name": "stderr",
     "output_type": "stream",
     "text": [
      "For constructs with categorical indicators, the alpha and the average variance extracted are calculated from polychoric (polyserial) correlations, not from Pearson correlations.\n",
      "\n",
      "\n"
     ]
    },
    {
     "data": {
      "text/html": [
       "<table>\n",
       "<caption>A matrix: 5 × 2 of type dbl</caption>\n",
       "<thead>\n",
       "\t<tr><th></th><th scope=col>ProsocialOrientations</th><th scope=col>ProsocialChallenges</th></tr>\n",
       "</thead>\n",
       "<tbody>\n",
       "\t<tr><th scope=row>alpha</th><td>0.6963453</td><td>0.5773314</td></tr>\n",
       "\t<tr><th scope=row>omega</th><td>0.5208622</td><td>0.4749395</td></tr>\n",
       "\t<tr><th scope=row>omega2</th><td>0.5208622</td><td>0.4749395</td></tr>\n",
       "\t<tr><th scope=row>omega3</th><td>0.5220521</td><td>0.4817764</td></tr>\n",
       "\t<tr><th scope=row>avevar</th><td>0.3597480</td><td>0.3630037</td></tr>\n",
       "</tbody>\n",
       "</table>\n"
      ],
      "text/latex": [
       "A matrix: 5 × 2 of type dbl\n",
       "\\begin{tabular}{r|ll}\n",
       "  & ProsocialOrientations & ProsocialChallenges\\\\\n",
       "\\hline\n",
       "\talpha & 0.6963453 & 0.5773314\\\\\n",
       "\tomega & 0.5208622 & 0.4749395\\\\\n",
       "\tomega2 & 0.5208622 & 0.4749395\\\\\n",
       "\tomega3 & 0.5220521 & 0.4817764\\\\\n",
       "\tavevar & 0.3597480 & 0.3630037\\\\\n",
       "\\end{tabular}\n"
      ],
      "text/markdown": [
       "\n",
       "A matrix: 5 × 2 of type dbl\n",
       "\n",
       "| <!--/--> | ProsocialOrientations | ProsocialChallenges |\n",
       "|---|---|---|\n",
       "| alpha | 0.6963453 | 0.5773314 |\n",
       "| omega | 0.5208622 | 0.4749395 |\n",
       "| omega2 | 0.5208622 | 0.4749395 |\n",
       "| omega3 | 0.5220521 | 0.4817764 |\n",
       "| avevar | 0.3597480 | 0.3630037 |\n",
       "\n"
      ],
      "text/plain": [
       "       ProsocialOrientations ProsocialChallenges\n",
       "alpha  0.6963453             0.5773314          \n",
       "omega  0.5208622             0.4749395          \n",
       "omega2 0.5208622             0.4749395          \n",
       "omega3 0.5220521             0.4817764          \n",
       "avevar 0.3597480             0.3630037          "
      ]
     },
     "metadata": {},
     "output_type": "display_data"
    }
   ],
   "source": [
    "reliability(fit)"
   ]
  },
  {
   "cell_type": "code",
   "execution_count": 107,
   "metadata": {},
   "outputs": [
    {
     "name": "stdout",
     "output_type": "stream",
     "text": [
      "lavaan 0.6-7 ended normally after 16 iterations\n",
      "\n",
      "  Estimator                                       DWLS\n",
      "  Optimization method                           NLMINB\n",
      "  Number of free parameters                         25\n",
      "                                                      \n",
      "  Number of observations                          1508\n",
      "                                                      \n",
      "Model Test User Model:\n",
      "                                              Standard      Robust\n",
      "  Test Statistic                                62.078      80.530\n",
      "  Degrees of freedom                                19          19\n",
      "  P-value (Chi-square)                           0.000       0.000\n",
      "  Scaling correction factor                                  0.771\n",
      "       Satorra-Bentler correction                                 \n",
      "\n",
      "Model Test Baseline Model:\n",
      "\n",
      "  Test statistic                              1284.400    1284.400\n",
      "  Degrees of freedom                                28          28\n",
      "  P-value                                        0.000       0.000\n",
      "  Scaling correction factor                                  1.000\n",
      "\n",
      "User Model versus Baseline Model:\n",
      "\n",
      "  Comparative Fit Index (CFI)                    0.966       0.951\n",
      "  Tucker-Lewis Index (TLI)                       0.949       0.928\n",
      "                                                                  \n",
      "  Robust Comparative Fit Index (CFI)                         0.962\n",
      "  Robust Tucker-Lewis Index (TLI)                            0.944\n",
      "\n",
      "Root Mean Square Error of Approximation:\n",
      "\n",
      "  RMSEA                                          0.039       0.046\n",
      "  90 Percent confidence interval - lower         0.028       0.035\n",
      "  90 Percent confidence interval - upper         0.050       0.059\n",
      "  P-value RMSEA <= 0.05                          0.954       0.671\n",
      "                                                                  \n",
      "  Robust RMSEA                                               0.041\n",
      "  90 Percent confidence interval - lower                     0.032\n",
      "  90 Percent confidence interval - upper                     0.050\n",
      "\n",
      "Standardized Root Mean Square Residual:\n",
      "\n",
      "  SRMR                                           0.052       0.052\n",
      "\n",
      "Parameter Estimates:\n",
      "\n",
      "  Standard errors                           Robust.sem\n",
      "  Information                                 Expected\n",
      "  Information saturated (h1) model        Unstructured\n",
      "\n",
      "Latent Variables:\n",
      "                           Estimate  Std.Err  z-value  P(>|z|)   Std.lv\n",
      "  ProsocialOrientations =~                                             \n",
      "    Item6                     0.447    0.041   10.883    0.000    0.447\n",
      "    Item8                     0.659    0.034   19.251    0.000    0.659\n",
      "    Item9                     0.505    0.041   12.245    0.000    0.505\n",
      "    Item10                    0.884    0.043   20.361    0.000    0.884\n",
      "    Item11                    0.358    0.044    8.168    0.000    0.358\n",
      "  ProsocialChallenges =~                                               \n",
      "    Item2                     0.783    0.051   15.445    0.000    0.783\n",
      "    Item3                     0.564    0.041   13.735    0.000    0.564\n",
      "    Item4                     0.398    0.036   11.153    0.000    0.398\n",
      "  Std.all\n",
      "         \n",
      "    0.447\n",
      "    0.659\n",
      "    0.505\n",
      "    0.884\n",
      "    0.358\n",
      "         \n",
      "    0.783\n",
      "    0.564\n",
      "    0.398\n",
      "\n",
      "Covariances:\n",
      "                           Estimate  Std.Err  z-value  P(>|z|)   Std.lv\n",
      "  ProsocialOrientations ~~                                             \n",
      "    ProsoclChllngs           -0.271    0.048   -5.661    0.000   -0.271\n",
      "  Std.all\n",
      "         \n",
      "   -0.271\n",
      "\n",
      "Intercepts:\n",
      "                   Estimate  Std.Err  z-value  P(>|z|)   Std.lv  Std.all\n",
      "   .Item6             0.000                               0.000    0.000\n",
      "   .Item8             0.000                               0.000    0.000\n",
      "   .Item9             0.000                               0.000    0.000\n",
      "   .Item10            0.000                               0.000    0.000\n",
      "   .Item11            0.000                               0.000    0.000\n",
      "   .Item2             0.000                               0.000    0.000\n",
      "   .Item3             0.000                               0.000    0.000\n",
      "   .Item4             0.000                               0.000    0.000\n",
      "    ProsoclOrnttns    0.000                               0.000    0.000\n",
      "    ProsoclChllngs    0.000                               0.000    0.000\n",
      "\n",
      "Thresholds:\n",
      "                   Estimate  Std.Err  z-value  P(>|z|)   Std.lv  Std.all\n",
      "    Item6|t1         -1.616    0.053  -30.258    0.000   -1.616   -1.616\n",
      "    Item6|t2         -0.756    0.036  -21.076    0.000   -0.756   -0.756\n",
      "    Item8|t1         -1.701    0.057  -30.074    0.000   -1.701   -1.701\n",
      "    Item8|t2         -0.679    0.035  -19.314    0.000   -0.679   -0.679\n",
      "    Item9|t1         -1.701    0.057  -30.074    0.000   -1.701   -1.701\n",
      "    Item9|t2         -0.829    0.037  -22.612    0.000   -0.829   -0.829\n",
      "    Item10|t1        -2.218    0.087  -25.640    0.000   -2.218   -2.218\n",
      "    Item10|t2        -1.340    0.045  -29.527    0.000   -1.340   -1.340\n",
      "    Item11|t1        -1.687    0.056  -30.117    0.000   -1.687   -1.687\n",
      "    Item11|t2        -0.747    0.036  -20.882    0.000   -0.747   -0.747\n",
      "    Item2|t1         -0.396    0.033  -11.912    0.000   -0.396   -0.396\n",
      "    Item2|t2          1.694    0.056   30.096    0.000    1.694    1.694\n",
      "    Item3|t1         -0.862    0.037  -23.272    0.000   -0.862   -0.862\n",
      "    Item3|t2          1.316    0.045   29.363    0.000    1.316    1.316\n",
      "    Item4|t1          0.145    0.032    4.478    0.000    0.145    0.145\n",
      "    Item4|t2          1.233    0.043   28.678    0.000    1.233    1.233\n",
      "\n",
      "Variances:\n",
      "                   Estimate  Std.Err  z-value  P(>|z|)   Std.lv  Std.all\n",
      "   .Item6             0.800                               0.800    0.800\n",
      "   .Item8             0.566                               0.566    0.566\n",
      "   .Item9             0.745                               0.745    0.745\n",
      "   .Item10            0.219                               0.219    0.219\n",
      "   .Item11            0.872                               0.872    0.872\n",
      "   .Item2             0.388                               0.388    0.388\n",
      "   .Item3             0.681                               0.681    0.681\n",
      "   .Item4             0.842                               0.842    0.842\n",
      "    ProsoclOrnttns    1.000                               1.000    1.000\n",
      "    ProsoclChllngs    1.000                               1.000    1.000\n",
      "\n",
      "Scales y*:\n",
      "                   Estimate  Std.Err  z-value  P(>|z|)   Std.lv  Std.all\n",
      "    Item6             1.000                               1.000    1.000\n",
      "    Item8             1.000                               1.000    1.000\n",
      "    Item9             1.000                               1.000    1.000\n",
      "    Item10            1.000                               1.000    1.000\n",
      "    Item11            1.000                               1.000    1.000\n",
      "    Item2             1.000                               1.000    1.000\n",
      "    Item3             1.000                               1.000    1.000\n",
      "    Item4             1.000                               1.000    1.000\n",
      "\n",
      "R-Square:\n",
      "                   Estimate\n",
      "    Item6             0.200\n",
      "    Item8             0.434\n",
      "    Item9             0.255\n",
      "    Item10            0.781\n",
      "    Item11            0.128\n",
      "    Item2             0.612\n",
      "    Item3             0.319\n",
      "    Item4             0.158\n",
      "\n"
     ]
    }
   ],
   "source": [
    "summary(fit, fit.measures=TRUE, standardized=TRUE,rsquare=TRUE)"
   ]
  },
  {
   "cell_type": "code",
   "execution_count": 171,
   "metadata": {},
   "outputs": [
    {
     "data": {
      "image/png": "[encoded data removed]",
      "text/plain": [
       "plot without title"
      ]
     },
     "metadata": {
      "image/png": {
       "height": 420,
       "width": 420
      }
     },
     "output_type": "display_data"
    }
   ],
   "source": [
    "library(tidySEM)\n",
    "library(lavaan)\n",
    "library(ggplot2)\n",
    "library(dplyr)\n",
    "graph_sem(model = fit)"
   ]
  },
  {
   "cell_type": "code",
   "execution_count": 179,
   "metadata": {},
   "outputs": [],
   "source": [
    "lay <- get_layout(\"\", \"\",\"\",\"\",\"\",\"ProsocialOrientations\",\"\",\"ProsocialChallenges\", \"\",\"\",\"\",\"\",\"\",\n",
    "                  \"Item1\", \"Item2\", \"Item3\", \"Item4\", \"Item5\", \"Item6\", \"Item7\", \"Item8\", \"Item9\",\"Item10\",\"Item11\", rows = 2)"
   ]
  },
  {
   "cell_type": "code",
   "execution_count": 180,
   "metadata": {},
   "outputs": [
    {
     "data": {
      "image/png": "[encoded data removed]",
      "text/plain": [
       "plot without title"
      ]
     },
     "metadata": {
      "image/png": {
       "height": 420,
       "width": 420
      }
     },
     "output_type": "display_data"
    }
   ],
   "source": [
    "graph_sem(fit, layout = lay)"
   ]
  },
  {
   "cell_type": "code",
   "execution_count": null,
   "metadata": {},
   "outputs": [],
   "source": []
  },
  {
   "cell_type": "code",
   "execution_count": null,
   "metadata": {},
   "outputs": [],
   "source": []
  },
  {
   "cell_type": "code",
   "execution_count": null,
   "metadata": {},
   "outputs": [],
   "source": []
  },
  {
   "cell_type": "code",
   "execution_count": 127,
   "metadata": {},
   "outputs": [
    {
     "name": "stderr",
     "output_type": "stream",
     "text": [
      "Warning message:\n",
      "“The measurementInvariance function is deprecated, and it will cease to be included in future versions of semTools. See help('semTools-deprecated) for details.”\n",
      "Warning message in lavaan::lavTestLRT(...):\n",
      "“lavaan WARNING: method = “satorra.bentler.2001”\n",
      "\t but no robust test statistics were used;\n",
      "\t switching to the standard chi-square difference test”\n"
     ]
    },
    {
     "name": "stdout",
     "output_type": "stream",
     "text": [
      "\n",
      "Measurement invariance models:\n",
      "\n",
      "Model 1 : fit.configural\n",
      "Model 2 : fit.loadings\n",
      "Model 3 : fit.intercepts\n",
      "Model 4 : fit.means\n",
      "\n",
      "Chi-Squared Difference Test\n",
      "\n",
      "               Df   AIC   BIC  Chisq Chisq diff Df diff Pr(>Chisq)    \n",
      "fit.configural 38 17840 18106 108.50                                  \n",
      "fit.loadings   44 17843 18077 123.30     14.798       6    0.02189 *  \n",
      "fit.intercepts 50 17882 18084 174.20     50.898       6  3.105e-09 ***\n",
      "fit.means      52 17906 18098 202.75     28.551       2  6.314e-07 ***\n",
      "---\n",
      "Signif. codes:  0 ‘***’ 0.001 ‘**’ 0.01 ‘*’ 0.05 ‘.’ 0.1 ‘ ’ 1\n",
      "\n",
      "\n",
      "Fit measures:\n",
      "\n",
      "                 cfi   gfi rmsea  srmr cfi.delta gfi.delta rmsea.delta\n",
      "fit.configural 0.915 0.999 0.050 0.036        NA        NA          NA\n",
      "fit.loadings   0.905 0.999 0.049 0.041     0.011         0       0.001\n",
      "fit.intercepts 0.851 0.999 0.057 0.048     0.054         0       0.009\n",
      "fit.means      0.819 0.999 0.062 0.054     0.032         0       0.005\n",
      "               srmr.delta\n",
      "fit.configural         NA\n",
      "fit.loadings        0.004\n",
      "fit.intercepts      0.007\n",
      "fit.means           0.006\n",
      "\n"
     ]
    }
   ],
   "source": [
    "library(semTools)\n",
    "measurementInvariance(model = model, data = data, group = \"Gender\",missing=\"pairwise\",method = \"satorra.bentler.2001\",fit.measures = c(\"cfi\",\"gfi\",\"rmsea\",\"srmr\"))"
   ]
  },
  {
   "cell_type": "code",
   "execution_count": null,
   "metadata": {},
   "outputs": [],
   "source": []
  }
 ],
 "metadata": {
  "kernelspec": {
   "display_name": "R",
   "language": "R",
   "name": "ir"
  },
  "language_info": {
   "codemirror_mode": "r",
   "file_extension": ".r",
   "mimetype": "text/x-r-source",
   "name": "R",
   "pygments_lexer": "r",
   "version": "4.0.2"
  }
 },
 "nbformat": 4,
 "nbformat_minor": 4
}
